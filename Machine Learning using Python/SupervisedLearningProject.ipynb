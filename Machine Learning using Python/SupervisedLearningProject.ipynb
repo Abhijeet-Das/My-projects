{
 "cells": [
  {
   "cell_type": "markdown",
   "metadata": {},
   "source": [
    "# Supervised Learning Project"
   ]
  },
  {
   "cell_type": "code",
   "execution_count": 83,
   "metadata": {},
   "outputs": [],
   "source": [
    "#Load Libraries\n",
    "import pandas as pd\n",
    "import numpy as np\n",
    "import matplotlib as mpl\n",
    "import matplotlib.pyplot as plt\n",
    "from sklearn.model_selection import train_test_split\n",
    "from sklearn import linear_model\n",
    "import statsmodels.api as sm\n",
    "from sklearn import metrics\n",
    "from sklearn import datasets\n",
    "import seaborn as sns\n",
    "%matplotlib inline\n",
    "\n",
    "# Suppressing Warnings\n",
    "import warnings\n",
    "warnings.filterwarnings('ignore')"
   ]
  },
  {
   "cell_type": "markdown",
   "metadata": {},
   "source": [
    "# 1. Read the column description and ensure you understand each attribute well"
   ]
  },
  {
   "cell_type": "code",
   "execution_count": 84,
   "metadata": {},
   "outputs": [],
   "source": [
    "bank_dataframe = pd.read_csv('Bank_Personal_Loan_Modelling.csv')"
   ]
  },
  {
   "cell_type": "code",
   "execution_count": 10,
   "metadata": {},
   "outputs": [
    {
     "name": "stdout",
     "output_type": "stream",
     "text": [
      "<class 'pandas.core.frame.DataFrame'>\n",
      "RangeIndex: 5000 entries, 0 to 4999\n",
      "Data columns (total 14 columns):\n",
      "ID                    5000 non-null int64\n",
      "Age                   5000 non-null int64\n",
      "Experience            5000 non-null int64\n",
      "Income                5000 non-null int64\n",
      "ZIP Code              5000 non-null int64\n",
      "Family                5000 non-null int64\n",
      "CCAvg                 5000 non-null float64\n",
      "Education             5000 non-null int64\n",
      "Mortgage              5000 non-null int64\n",
      "Personal Loan         5000 non-null int64\n",
      "Securities Account    5000 non-null int64\n",
      "CD Account            5000 non-null int64\n",
      "Online                5000 non-null int64\n",
      "CreditCard            5000 non-null int64\n",
      "dtypes: float64(1), int64(13)\n",
      "memory usage: 547.0 KB\n"
     ]
    }
   ],
   "source": [
    "bank_dataframe.info()"
   ]
  },
  {
   "cell_type": "code",
   "execution_count": 30,
   "metadata": {},
   "outputs": [
    {
     "data": {
      "text/html": [
       "<div>\n",
       "<style scoped>\n",
       "    .dataframe tbody tr th:only-of-type {\n",
       "        vertical-align: middle;\n",
       "    }\n",
       "\n",
       "    .dataframe tbody tr th {\n",
       "        vertical-align: top;\n",
       "    }\n",
       "\n",
       "    .dataframe thead th {\n",
       "        text-align: right;\n",
       "    }\n",
       "</style>\n",
       "<table border=\"1\" class=\"dataframe\">\n",
       "  <thead>\n",
       "    <tr style=\"text-align: right;\">\n",
       "      <th></th>\n",
       "      <th>ID</th>\n",
       "      <th>Age</th>\n",
       "      <th>Experience</th>\n",
       "      <th>Income</th>\n",
       "      <th>ZIP Code</th>\n",
       "      <th>Family</th>\n",
       "      <th>CCAvg</th>\n",
       "      <th>Education</th>\n",
       "      <th>Mortgage</th>\n",
       "      <th>Personal Loan</th>\n",
       "      <th>Securities Account</th>\n",
       "      <th>CD Account</th>\n",
       "      <th>Online</th>\n",
       "      <th>CreditCard</th>\n",
       "    </tr>\n",
       "  </thead>\n",
       "  <tbody>\n",
       "    <tr>\n",
       "      <td>0</td>\n",
       "      <td>1</td>\n",
       "      <td>25</td>\n",
       "      <td>1</td>\n",
       "      <td>49</td>\n",
       "      <td>91107</td>\n",
       "      <td>4</td>\n",
       "      <td>1.6</td>\n",
       "      <td>1</td>\n",
       "      <td>0</td>\n",
       "      <td>0</td>\n",
       "      <td>1</td>\n",
       "      <td>0</td>\n",
       "      <td>0</td>\n",
       "      <td>0</td>\n",
       "    </tr>\n",
       "    <tr>\n",
       "      <td>1</td>\n",
       "      <td>2</td>\n",
       "      <td>45</td>\n",
       "      <td>19</td>\n",
       "      <td>34</td>\n",
       "      <td>90089</td>\n",
       "      <td>3</td>\n",
       "      <td>1.5</td>\n",
       "      <td>1</td>\n",
       "      <td>0</td>\n",
       "      <td>0</td>\n",
       "      <td>1</td>\n",
       "      <td>0</td>\n",
       "      <td>0</td>\n",
       "      <td>0</td>\n",
       "    </tr>\n",
       "    <tr>\n",
       "      <td>2</td>\n",
       "      <td>3</td>\n",
       "      <td>39</td>\n",
       "      <td>15</td>\n",
       "      <td>11</td>\n",
       "      <td>94720</td>\n",
       "      <td>1</td>\n",
       "      <td>1.0</td>\n",
       "      <td>1</td>\n",
       "      <td>0</td>\n",
       "      <td>0</td>\n",
       "      <td>0</td>\n",
       "      <td>0</td>\n",
       "      <td>0</td>\n",
       "      <td>0</td>\n",
       "    </tr>\n",
       "    <tr>\n",
       "      <td>3</td>\n",
       "      <td>4</td>\n",
       "      <td>35</td>\n",
       "      <td>9</td>\n",
       "      <td>100</td>\n",
       "      <td>94112</td>\n",
       "      <td>1</td>\n",
       "      <td>2.7</td>\n",
       "      <td>2</td>\n",
       "      <td>0</td>\n",
       "      <td>0</td>\n",
       "      <td>0</td>\n",
       "      <td>0</td>\n",
       "      <td>0</td>\n",
       "      <td>0</td>\n",
       "    </tr>\n",
       "    <tr>\n",
       "      <td>4</td>\n",
       "      <td>5</td>\n",
       "      <td>35</td>\n",
       "      <td>8</td>\n",
       "      <td>45</td>\n",
       "      <td>91330</td>\n",
       "      <td>4</td>\n",
       "      <td>1.0</td>\n",
       "      <td>2</td>\n",
       "      <td>0</td>\n",
       "      <td>0</td>\n",
       "      <td>0</td>\n",
       "      <td>0</td>\n",
       "      <td>0</td>\n",
       "      <td>1</td>\n",
       "    </tr>\n",
       "    <tr>\n",
       "      <td>...</td>\n",
       "      <td>...</td>\n",
       "      <td>...</td>\n",
       "      <td>...</td>\n",
       "      <td>...</td>\n",
       "      <td>...</td>\n",
       "      <td>...</td>\n",
       "      <td>...</td>\n",
       "      <td>...</td>\n",
       "      <td>...</td>\n",
       "      <td>...</td>\n",
       "      <td>...</td>\n",
       "      <td>...</td>\n",
       "      <td>...</td>\n",
       "      <td>...</td>\n",
       "    </tr>\n",
       "    <tr>\n",
       "      <td>4995</td>\n",
       "      <td>4996</td>\n",
       "      <td>29</td>\n",
       "      <td>3</td>\n",
       "      <td>40</td>\n",
       "      <td>92697</td>\n",
       "      <td>1</td>\n",
       "      <td>1.9</td>\n",
       "      <td>3</td>\n",
       "      <td>0</td>\n",
       "      <td>0</td>\n",
       "      <td>0</td>\n",
       "      <td>0</td>\n",
       "      <td>1</td>\n",
       "      <td>0</td>\n",
       "    </tr>\n",
       "    <tr>\n",
       "      <td>4996</td>\n",
       "      <td>4997</td>\n",
       "      <td>30</td>\n",
       "      <td>4</td>\n",
       "      <td>15</td>\n",
       "      <td>92037</td>\n",
       "      <td>4</td>\n",
       "      <td>0.4</td>\n",
       "      <td>1</td>\n",
       "      <td>85</td>\n",
       "      <td>0</td>\n",
       "      <td>0</td>\n",
       "      <td>0</td>\n",
       "      <td>1</td>\n",
       "      <td>0</td>\n",
       "    </tr>\n",
       "    <tr>\n",
       "      <td>4997</td>\n",
       "      <td>4998</td>\n",
       "      <td>63</td>\n",
       "      <td>39</td>\n",
       "      <td>24</td>\n",
       "      <td>93023</td>\n",
       "      <td>2</td>\n",
       "      <td>0.3</td>\n",
       "      <td>3</td>\n",
       "      <td>0</td>\n",
       "      <td>0</td>\n",
       "      <td>0</td>\n",
       "      <td>0</td>\n",
       "      <td>0</td>\n",
       "      <td>0</td>\n",
       "    </tr>\n",
       "    <tr>\n",
       "      <td>4998</td>\n",
       "      <td>4999</td>\n",
       "      <td>65</td>\n",
       "      <td>40</td>\n",
       "      <td>49</td>\n",
       "      <td>90034</td>\n",
       "      <td>3</td>\n",
       "      <td>0.5</td>\n",
       "      <td>2</td>\n",
       "      <td>0</td>\n",
       "      <td>0</td>\n",
       "      <td>0</td>\n",
       "      <td>0</td>\n",
       "      <td>1</td>\n",
       "      <td>0</td>\n",
       "    </tr>\n",
       "    <tr>\n",
       "      <td>4999</td>\n",
       "      <td>5000</td>\n",
       "      <td>28</td>\n",
       "      <td>4</td>\n",
       "      <td>83</td>\n",
       "      <td>92612</td>\n",
       "      <td>3</td>\n",
       "      <td>0.8</td>\n",
       "      <td>1</td>\n",
       "      <td>0</td>\n",
       "      <td>0</td>\n",
       "      <td>0</td>\n",
       "      <td>0</td>\n",
       "      <td>1</td>\n",
       "      <td>1</td>\n",
       "    </tr>\n",
       "  </tbody>\n",
       "</table>\n",
       "<p>5000 rows × 14 columns</p>\n",
       "</div>"
      ],
      "text/plain": [
       "        ID  Age  Experience  Income  ZIP Code  Family  CCAvg  Education  \\\n",
       "0        1   25           1      49     91107       4    1.6          1   \n",
       "1        2   45          19      34     90089       3    1.5          1   \n",
       "2        3   39          15      11     94720       1    1.0          1   \n",
       "3        4   35           9     100     94112       1    2.7          2   \n",
       "4        5   35           8      45     91330       4    1.0          2   \n",
       "...    ...  ...         ...     ...       ...     ...    ...        ...   \n",
       "4995  4996   29           3      40     92697       1    1.9          3   \n",
       "4996  4997   30           4      15     92037       4    0.4          1   \n",
       "4997  4998   63          39      24     93023       2    0.3          3   \n",
       "4998  4999   65          40      49     90034       3    0.5          2   \n",
       "4999  5000   28           4      83     92612       3    0.8          1   \n",
       "\n",
       "      Mortgage  Personal Loan  Securities Account  CD Account  Online  \\\n",
       "0            0              0                   1           0       0   \n",
       "1            0              0                   1           0       0   \n",
       "2            0              0                   0           0       0   \n",
       "3            0              0                   0           0       0   \n",
       "4            0              0                   0           0       0   \n",
       "...        ...            ...                 ...         ...     ...   \n",
       "4995         0              0                   0           0       1   \n",
       "4996        85              0                   0           0       1   \n",
       "4997         0              0                   0           0       0   \n",
       "4998         0              0                   0           0       1   \n",
       "4999         0              0                   0           0       1   \n",
       "\n",
       "      CreditCard  \n",
       "0              0  \n",
       "1              0  \n",
       "2              0  \n",
       "3              0  \n",
       "4              1  \n",
       "...          ...  \n",
       "4995           0  \n",
       "4996           0  \n",
       "4997           0  \n",
       "4998           0  \n",
       "4999           1  \n",
       "\n",
       "[5000 rows x 14 columns]"
      ]
     },
     "execution_count": 30,
     "metadata": {},
     "output_type": "execute_result"
    }
   ],
   "source": [
    "bank_dataframe"
   ]
  },
  {
   "cell_type": "code",
   "execution_count": 12,
   "metadata": {},
   "outputs": [
    {
     "data": {
      "text/plain": [
       "(5000, 14)"
      ]
     },
     "execution_count": 12,
     "metadata": {},
     "output_type": "execute_result"
    }
   ],
   "source": [
    "bank_dataframe.shape"
   ]
  },
  {
   "cell_type": "code",
   "execution_count": 13,
   "metadata": {},
   "outputs": [
    {
     "data": {
      "text/plain": [
       "ID                      int64\n",
       "Age                     int64\n",
       "Experience              int64\n",
       "Income                  int64\n",
       "ZIP Code                int64\n",
       "Family                  int64\n",
       "CCAvg                 float64\n",
       "Education               int64\n",
       "Mortgage                int64\n",
       "Personal Loan           int64\n",
       "Securities Account      int64\n",
       "CD Account              int64\n",
       "Online                  int64\n",
       "CreditCard              int64\n",
       "dtype: object"
      ]
     },
     "execution_count": 13,
     "metadata": {},
     "output_type": "execute_result"
    }
   ],
   "source": [
    "bank_dataframe.dtypes"
   ]
  },
  {
   "cell_type": "markdown",
   "metadata": {},
   "source": [
    "# 2. Study the data distribution in each attribute, share your findings (15 marks)"
   ]
  },
  {
   "cell_type": "code",
   "execution_count": 7,
   "metadata": {},
   "outputs": [
    {
     "data": {
      "text/plain": [
       "Text(0.5, 1.0, 'Age Distribution')"
      ]
     },
     "execution_count": 7,
     "metadata": {},
     "output_type": "execute_result"
    },
    {
     "data": {
      "image/png": "[encoded data removed]",
      "text/plain": [
       "<Figure size 432x288 with 1 Axes>"
      ]
     },
     "metadata": {
      "needs_background": "light"
     },
     "output_type": "display_data"
    }
   ],
   "source": [
    "age=sns.distplot(bank_dataframe['Age'],hist_kws={'edgecolor':'black'},kde_kws={'linewidth': 4})\n",
    "age.set_xlabel(\"Age\")\n",
    "age.set_ylabel(\"Frequency\")\n",
    "age.set_title(\"Age Distribution\")"
   ]
  },
  {
   "cell_type": "markdown",
   "metadata": {},
   "source": [
    "* The above plot shows how the data of the column \"Age\" of the customers is distributed.\n",
    "* Based on the visual observation, one can tell that most of the customers in the dataset roughly lie between the age group of 30 to 60 years."
   ]
  },
  {
   "cell_type": "code",
   "execution_count": 9,
   "metadata": {},
   "outputs": [
    {
     "data": {
      "text/plain": [
       "Text(0.5, 1.0, 'Experience Distribution')"
      ]
     },
     "execution_count": 9,
     "metadata": {},
     "output_type": "execute_result"
    },
    {
     "data": {
      "image/png": "[encoded data removed]",
      "text/plain": [
       "<Figure size 432x288 with 1 Axes>"
      ]
     },
     "metadata": {
      "needs_background": "light"
     },
     "output_type": "display_data"
    }
   ],
   "source": [
    "experience=sns.distplot(bank_dataframe['Experience'],hist_kws={'edgecolor':'black'},kde_kws={'linewidth': 4})\n",
    "experience.set_xlabel(\"Experience\")\n",
    "experience.set_ylabel(\"Frequency\")\n",
    "experience.set_title(\"Experience Distribution\")"
   ]
  },
  {
   "cell_type": "markdown",
   "metadata": {},
   "source": [
    "* The above plot shows how the data of the column \"Experience\" of the customers is distributed.\n",
    "* Based on the visual observation, one can tell that most of the customers' experience in the dataset roughly lie between the 5 to 38 years. However, customers which have 10years of experience saw a minor decline."
   ]
  },
  {
   "cell_type": "code",
   "execution_count": 10,
   "metadata": {},
   "outputs": [
    {
     "data": {
      "text/plain": [
       "Text(0.5, 1.0, 'Income Distribution')"
      ]
     },
     "execution_count": 10,
     "metadata": {},
     "output_type": "execute_result"
    },
    {
     "data": {
      "image/png": "[encoded data removed]",
      "text/plain": [
       "<Figure size 432x288 with 1 Axes>"
      ]
     },
     "metadata": {
      "needs_background": "light"
     },
     "output_type": "display_data"
    }
   ],
   "source": [
    "Income=sns.distplot(bank_dataframe['Income'],hist_kws={'edgecolor':'black'},kde_kws={'linewidth': 4})\n",
    "Income.set_xlabel(\"Income\")\n",
    "Income.set_ylabel(\"Frequency\")\n",
    "Income.set_title(\"Income Distribution\")"
   ]
  },
  {
   "cell_type": "markdown",
   "metadata": {},
   "source": [
    "* The above plot shows how the data distribution of the column \"Income\" of the customers is skewed to the left."
   ]
  },
  {
   "cell_type": "code",
   "execution_count": 12,
   "metadata": {},
   "outputs": [
    {
     "data": {
      "text/plain": [
       "Text(0.5, 1.0, 'ZIP Code Distribution')"
      ]
     },
     "execution_count": 12,
     "metadata": {},
     "output_type": "execute_result"
    },
    {
     "data": {
      "image/png": "[encoded data removed]",
      "text/plain": [
       "<Figure size 432x288 with 1 Axes>"
      ]
     },
     "metadata": {
      "needs_background": "light"
     },
     "output_type": "display_data"
    }
   ],
   "source": [
    "ZIPCode=sns.distplot(bank_dataframe['ZIP Code'],hist_kws={'edgecolor':'black'},kde_kws={'linewidth': 4})\n",
    "ZIPCode.set_xlabel(\"ZIP Code\")\n",
    "ZIPCode.set_ylabel(\"Frequency\")\n",
    "ZIPCode.set_title(\"ZIP Code Distribution\")"
   ]
  },
  {
   "cell_type": "markdown",
   "metadata": {},
   "source": [
    "* The above plot shows how the data distribution of the column \"ZIP Code\" of the customers is  highly skewed to the right."
   ]
  },
  {
   "cell_type": "code",
   "execution_count": 23,
   "metadata": {},
   "outputs": [
    {
     "data": {
      "text/plain": [
       "<matplotlib.axes._subplots.AxesSubplot at 0x1c2394e810>"
      ]
     },
     "execution_count": 23,
     "metadata": {},
     "output_type": "execute_result"
    },
    {
     "data": {
      "image/png": "[encoded data removed]",
      "text/plain": [
       "<Figure size 432x288 with 1 Axes>"
      ]
     },
     "metadata": {
      "needs_background": "light"
     },
     "output_type": "display_data"
    }
   ],
   "source": [
    "sns.countplot(x='Family',data=bank_dataframe)"
   ]
  },
  {
   "cell_type": "markdown",
   "metadata": {},
   "source": [
    "* The above plot shows how the data distribution of the column \"Family\" , which has the count of members in the Family. Most of the family has only 1 member followed by 2 and 4 members."
   ]
  },
  {
   "cell_type": "code",
   "execution_count": 25,
   "metadata": {},
   "outputs": [
    {
     "data": {
      "text/plain": [
       "Text(0.5, 1.0, 'CCAvg Distribution')"
      ]
     },
     "execution_count": 25,
     "metadata": {},
     "output_type": "execute_result"
    },
    {
     "data": {
      "image/png": "[encoded data removed]",
      "text/plain": [
       "<Figure size 432x288 with 1 Axes>"
      ]
     },
     "metadata": {
      "needs_background": "light"
     },
     "output_type": "display_data"
    }
   ],
   "source": [
    "CCAvg=sns.distplot(bank_dataframe['CCAvg'],hist_kws={'edgecolor':'black'},kde_kws={'linewidth': 4})\n",
    "CCAvg.set_xlabel(\"CCAvg\")\n",
    "CCAvg.set_ylabel(\"Frequency\")\n",
    "CCAvg.set_title(\"CCAvg Distribution\")"
   ]
  },
  {
   "cell_type": "markdown",
   "metadata": {},
   "source": [
    "* The above plot shows how the data distribution of the column \"CCAvg\" of the customers is  highly skewed to the left."
   ]
  },
  {
   "cell_type": "code",
   "execution_count": 26,
   "metadata": {},
   "outputs": [
    {
     "data": {
      "text/plain": [
       "<matplotlib.axes._subplots.AxesSubplot at 0x1c23a25b90>"
      ]
     },
     "execution_count": 26,
     "metadata": {},
     "output_type": "execute_result"
    },
    {
     "data": {
      "image/png": "[encoded data removed]",
      "text/plain": [
       "<Figure size 432x288 with 1 Axes>"
      ]
     },
     "metadata": {
      "needs_background": "light"
     },
     "output_type": "display_data"
    }
   ],
   "source": [
    "sns.countplot(x='Education',data=bank_dataframe)"
   ]
  },
  {
   "cell_type": "markdown",
   "metadata": {},
   "source": [
    "* The above plot shows how the data distribution of the column \"Education\", the density of the plot is more for the category \"1\": UnderGrad in the Education column of the dataset."
   ]
  },
  {
   "cell_type": "code",
   "execution_count": 31,
   "metadata": {},
   "outputs": [
    {
     "data": {
      "text/plain": [
       "Text(0.5, 1.0, 'Mortgage Distribution')"
      ]
     },
     "execution_count": 31,
     "metadata": {},
     "output_type": "execute_result"
    },
    {
     "data": {
      "image/png": "[encoded data removed]",
      "text/plain": [
       "<Figure size 432x288 with 1 Axes>"
      ]
     },
     "metadata": {
      "needs_background": "light"
     },
     "output_type": "display_data"
    }
   ],
   "source": [
    "Mortgage=sns.distplot(bank_dataframe['Mortgage'],hist_kws={'edgecolor':'black'},kde_kws={'linewidth': 4},rug=True)\n",
    "Mortgage.set_xlabel(\"Mortgage\")\n",
    "Mortgage.set_ylabel(\"Frequency\")\n",
    "Mortgage.set_title(\"Mortgage Distribution\")"
   ]
  },
  {
   "cell_type": "markdown",
   "metadata": {},
   "source": [
    "* The above plot shows the data distribution of the column \"Mortgage\".\n",
    "* Most of the observations lie between 100 to 350."
   ]
  },
  {
   "cell_type": "code",
   "execution_count": 33,
   "metadata": {},
   "outputs": [
    {
     "data": {
      "text/plain": [
       "<matplotlib.axes._subplots.AxesSubplot at 0x1c23fae110>"
      ]
     },
     "execution_count": 33,
     "metadata": {},
     "output_type": "execute_result"
    },
    {
     "data": {
      "image/png": "[encoded data removed]",
      "text/plain": [
       "<Figure size 432x288 with 1 Axes>"
      ]
     },
     "metadata": {
      "needs_background": "light"
     },
     "output_type": "display_data"
    }
   ],
   "source": [
    "sns.countplot(x='Personal Loan',data=bank_dataframe)"
   ]
  },
  {
   "cell_type": "markdown",
   "metadata": {},
   "source": [
    "* The above plot shows how many customers with category \"1\" have accepted the personal loan offered in the last campaign"
   ]
  },
  {
   "cell_type": "code",
   "execution_count": 35,
   "metadata": {},
   "outputs": [
    {
     "data": {
      "text/plain": [
       "<matplotlib.axes._subplots.AxesSubplot at 0x1c2430c190>"
      ]
     },
     "execution_count": 35,
     "metadata": {},
     "output_type": "execute_result"
    },
    {
     "data": {
      "image/png": "[encoded data removed]",
      "text/plain": [
       "<Figure size 432x288 with 1 Axes>"
      ]
     },
     "metadata": {
      "needs_background": "light"
     },
     "output_type": "display_data"
    }
   ],
   "source": [
    "sns.countplot(x='Securities Account',data=bank_dataframe)"
   ]
  },
  {
   "cell_type": "markdown",
   "metadata": {},
   "source": [
    "* The above plot shows how many customers with category \"1\" have a securities account with the bank"
   ]
  },
  {
   "cell_type": "code",
   "execution_count": 36,
   "metadata": {},
   "outputs": [
    {
     "data": {
      "text/plain": [
       "<matplotlib.axes._subplots.AxesSubplot at 0x1c24500e50>"
      ]
     },
     "execution_count": 36,
     "metadata": {},
     "output_type": "execute_result"
    },
    {
     "data": {
      "image/png": "[encoded data removed]",
      "text/plain": [
       "<Figure size 432x288 with 1 Axes>"
      ]
     },
     "metadata": {
      "needs_background": "light"
     },
     "output_type": "display_data"
    }
   ],
   "source": [
    "sns.countplot(x='CD Account',data=bank_dataframe)"
   ]
  },
  {
   "cell_type": "markdown",
   "metadata": {},
   "source": [
    "* The above plot shows how many customers with category \"1\" have a certificate of deposit (CD) account with the bank"
   ]
  },
  {
   "cell_type": "code",
   "execution_count": 37,
   "metadata": {},
   "outputs": [
    {
     "data": {
      "text/plain": [
       "<matplotlib.axes._subplots.AxesSubplot at 0x1c2463e190>"
      ]
     },
     "execution_count": 37,
     "metadata": {},
     "output_type": "execute_result"
    },
    {
     "data": {
      "image/png": "[encoded data removed]",
      "text/plain": [
       "<Figure size 432x288 with 1 Axes>"
      ]
     },
     "metadata": {
      "needs_background": "light"
     },
     "output_type": "display_data"
    }
   ],
   "source": [
    "sns.countplot(x='Online',data=bank_dataframe)"
   ]
  },
  {
   "cell_type": "markdown",
   "metadata": {},
   "source": [
    "* The above plot shows how many customers with category \"1\" use internet banking facilities"
   ]
  },
  {
   "cell_type": "code",
   "execution_count": 38,
   "metadata": {},
   "outputs": [
    {
     "data": {
      "text/plain": [
       "<matplotlib.axes._subplots.AxesSubplot at 0x1c2452ae90>"
      ]
     },
     "execution_count": 38,
     "metadata": {},
     "output_type": "execute_result"
    },
    {
     "data": {
      "image/png": "[encoded data removed]",
      "text/plain": [
       "<Figure size 432x288 with 1 Axes>"
      ]
     },
     "metadata": {
      "needs_background": "light"
     },
     "output_type": "display_data"
    }
   ],
   "source": [
    "sns.countplot(x='CreditCard',data=bank_dataframe)"
   ]
  },
  {
   "cell_type": "markdown",
   "metadata": {},
   "source": [
    "* The above plot shows how many customers with category \"1\" use a credit card issued by UniversalBank"
   ]
  },
  {
   "cell_type": "markdown",
   "metadata": {},
   "source": [
    "# 3. Get the target column distribution. Your comments (5 marks)"
   ]
  },
  {
   "cell_type": "code",
   "execution_count": 140,
   "metadata": {},
   "outputs": [
    {
     "name": "stdout",
     "output_type": "stream",
     "text": [
      "Family            1     2    3     4\n",
      "Personal Loan                       \n",
      "0              1365  1190  877  1088\n",
      "1               107   106  133   134\n"
     ]
    },
    {
     "data": {
      "text/plain": [
       "<matplotlib.axes._subplots.AxesSubplot at 0x1c2e211550>"
      ]
     },
     "execution_count": 140,
     "metadata": {},
     "output_type": "execute_result"
    },
    {
     "data": {
      "image/png": "[encoded data removed]",
      "text/plain": [
       "<Figure size 432x288 with 1 Axes>"
      ]
     },
     "metadata": {
      "needs_background": "light"
     },
     "output_type": "display_data"
    }
   ],
   "source": [
    "#Family\n",
    "print(pd.pivot_table(data=bank_dataframe,index='Personal Loan',columns='Family',aggfunc='size'))\n",
    "sns.countplot(x='Family',data=bank_dataframe,hue='Personal Loan')"
   ]
  },
  {
   "cell_type": "markdown",
   "metadata": {},
   "source": [
    "* Family with just 1 member has least count of Personal Loan"
   ]
  },
  {
   "cell_type": "markdown",
   "metadata": {},
   "source": [
    "* Family with 4 members has the highest count of Personal Loan"
   ]
  },
  {
   "cell_type": "markdown",
   "metadata": {},
   "source": [
    "# 4. Split the data into training and test set in the ratio of 70:30 respectively (5 marks)"
   ]
  },
  {
   "cell_type": "code",
   "execution_count": 85,
   "metadata": {},
   "outputs": [],
   "source": [
    "#Creating family dummy Variables\n",
    "fa = pd.get_dummies(bank_dataframe['Family'], prefix='Family')\n",
    "#Adding the results to the master dataframe\n",
    "bank_df1 = pd.concat([bank_dataframe,fa], axis=1)"
   ]
  },
  {
   "cell_type": "code",
   "execution_count": 86,
   "metadata": {},
   "outputs": [],
   "source": [
    "#Creating education dummy Variables\n",
    "ed = pd.get_dummies(bank_dataframe['Education'], prefix='Education')\n",
    "#Adding the results to the master dataframe\n",
    "bank_df1 = pd.concat([bank_df1,ed], axis=1)"
   ]
  },
  {
   "cell_type": "code",
   "execution_count": 87,
   "metadata": {},
   "outputs": [],
   "source": [
    "# We have created dummies for the below variables, so we can drop them\n",
    "#bank_df2 is our new dataset after cleaning and transformation\n",
    "bank_df2=bank_df1.drop(['Education','Family'],1)"
   ]
  },
  {
   "cell_type": "code",
   "execution_count": 88,
   "metadata": {},
   "outputs": [],
   "source": [
    "var=['Securities Account','CD Account','Online','CreditCard']\n",
    "bank_df2[var]=bank_df2[var].astype('int64')\n",
    "bank_df2_X = bank_df2.drop(['Personal Loan'], axis=1)\n",
    "X = bank_df2.drop(['Personal Loan'], axis=1)\n",
    "y = bank_df2['Personal Loan']"
   ]
  },
  {
   "cell_type": "code",
   "execution_count": 49,
   "metadata": {},
   "outputs": [
    {
     "data": {
      "text/plain": [
       "ID                      int64\n",
       "Age                     int64\n",
       "Experience              int64\n",
       "Income                  int64\n",
       "ZIP Code                int64\n",
       "CCAvg                 float64\n",
       "Mortgage                int64\n",
       "Securities Account      int64\n",
       "CD Account              int64\n",
       "Online                  int64\n",
       "CreditCard              int64\n",
       "Family_1                uint8\n",
       "Family_2                uint8\n",
       "Family_3                uint8\n",
       "Family_4                uint8\n",
       "Education_1             uint8\n",
       "Education_2             uint8\n",
       "Education_3             uint8\n",
       "dtype: object"
      ]
     },
     "execution_count": 49,
     "metadata": {},
     "output_type": "execute_result"
    }
   ],
   "source": [
    "X.dtypes"
   ]
  },
  {
   "cell_type": "code",
   "execution_count": 89,
   "metadata": {},
   "outputs": [],
   "source": [
    "# Test Train Split\n",
    "from sklearn.model_selection import train_test_split\n",
    "X_train, X_test, y_train, y_test = train_test_split(bank_df2_X, y, train_size=0.7, test_size=0.3, random_state=100)"
   ]
  },
  {
   "cell_type": "code",
   "execution_count": 90,
   "metadata": {},
   "outputs": [],
   "source": [
    "#Feature Scaling library\n",
    "from sklearn.preprocessing import StandardScaler"
   ]
  },
  {
   "cell_type": "code",
   "execution_count": 91,
   "metadata": {},
   "outputs": [],
   "source": [
    "#Applying Scaling to training set\n",
    "scaler = StandardScaler()\n",
    "X_train[['Age','Experience','Income','CCAvg']] = scaler.fit_transform(X_train[['Age','Experience','Income','CCAvg']])\n",
    "X_test[['Age','Experience','Income','CCAvg']] = scaler.transform(X_test[['Age','Experience','Income','CCAvg']])"
   ]
  },
  {
   "cell_type": "markdown",
   "metadata": {},
   "source": [
    "# 5. Use different classification models (Logistic, K-NN and Naïve Bayes) to predict the likelihood of a customer buying personal loans (15 marks)"
   ]
  },
  {
   "cell_type": "code",
   "execution_count": 57,
   "metadata": {},
   "outputs": [
    {
     "name": "stdout",
     "output_type": "stream",
     "text": [
      "Optimization terminated successfully.\n",
      "         Current function value: 0.106221\n",
      "         Iterations 10\n",
      "                                   Results: Logit\n",
      "====================================================================================\n",
      "Model:                    Logit                  Pseudo R-squared:       0.654      \n",
      "Dependent Variable:       Personal Loan          AIC:                    777.5441   \n",
      "Date:                     2020-01-26 04:01       BIC:                    882.2729   \n",
      "No. Observations:         3500                   Log-Likelihood:         -371.77    \n",
      "Df Model:                 16                     LL-Null:                -1075.0    \n",
      "Df Residuals:             3483                   LLR p-value:            6.7082e-290\n",
      "Converged:                1.0000                 Scale:                  1.0000     \n",
      "No. Iterations:           10.0000                                                   \n",
      "------------------------------------------------------------------------------------\n",
      "                    Coef.     Std.Err.      z    P>|z|      [0.025         0.975]   \n",
      "------------------------------------------------------------------------------------\n",
      "ID                  -0.0000       0.0001 -0.3065 0.7592        -0.0002        0.0001\n",
      "Age                 -0.3415       0.9339 -0.3657 0.7146        -2.1719        1.4888\n",
      "Experience           0.5410       0.9304  0.5815 0.5609        -1.2825        2.3645\n",
      "Income               3.0634       0.1841 16.6384 0.0000         2.7026        3.4243\n",
      "ZIP Code             0.0001       0.0001  1.8532 0.0638        -0.0000        0.0002\n",
      "CCAvg                0.3645       0.1006  3.6219 0.0003         0.1673        0.5618\n",
      "Mortgage             0.0010       0.0008  1.3764 0.1687        -0.0004        0.0025\n",
      "Securities Account  -0.5406       0.3579 -1.5105 0.1309        -1.2421        0.1609\n",
      "CD Account           3.3097       0.4153  7.9689 0.0000         2.4957        4.1237\n",
      "Online              -1.0424       0.2120 -4.9177 0.0000        -1.4578       -0.6269\n",
      "CreditCard          -0.7882       0.2546 -3.0959 0.0020        -1.2871       -0.2892\n",
      "Family_1            -6.8202 5263625.2074 -0.0000 1.0000 -10316522.6548 10316509.0145\n",
      "Family_2            -7.1346 5263625.2074 -0.0000 1.0000 -10316522.9693 10316508.7000\n",
      "Family_3            -4.9990 5263625.2074 -0.0000 1.0000 -10316520.8336 10316510.8356\n",
      "Family_4            -5.1689 5263625.2074 -0.0000 1.0000 -10316521.0036 10316510.6657\n",
      "Education_1        -10.9991 5263625.2074 -0.0000 1.0000 -10316526.8337 10316504.8355\n",
      "Education_2         -6.6846 5263625.2074 -0.0000 1.0000 -10316522.5192 10316509.1500\n",
      "Education_3         -6.4390 5263625.2074 -0.0000 1.0000 -10316522.2736 10316509.3956\n",
      "====================================================================================\n",
      "\n"
     ]
    }
   ],
   "source": [
    "#ITERATION 1 - Fitting all the features in the first iteration\n",
    "import statsmodels.api as sm\n",
    "logit_model=sm.Logit(y_train,X_train)\n",
    "result1=logit_model.fit()\n",
    "print(result1.summary2())"
   ]
  },
  {
   "cell_type": "code",
   "execution_count": 58,
   "metadata": {},
   "outputs": [],
   "source": [
    "#dropping Family_2 and Education_1 in iteration 2 as they have high p value\n",
    "X_train1 = X_train.drop(['Family_2','Education_1'], axis=1)"
   ]
  },
  {
   "cell_type": "code",
   "execution_count": 59,
   "metadata": {},
   "outputs": [
    {
     "name": "stdout",
     "output_type": "stream",
     "text": [
      "Optimization terminated successfully.\n",
      "         Current function value: 0.107940\n",
      "         Iterations 10\n",
      "                          Results: Logit\n",
      "===================================================================\n",
      "Model:               Logit            Pseudo R-squared: 0.649      \n",
      "Dependent Variable:  Personal Loan    AIC:              787.5810   \n",
      "Date:                2020-01-26 04:02 BIC:              886.1493   \n",
      "No. Observations:    3500             Log-Likelihood:   -377.79    \n",
      "Df Model:            15               LL-Null:          -1075.0    \n",
      "Df Residuals:        3484             LLR p-value:      2.6460e-288\n",
      "Converged:           1.0000           Scale:            1.0000     \n",
      "No. Iterations:      10.0000                                       \n",
      "-------------------------------------------------------------------\n",
      "                    Coef.  Std.Err.    z     P>|z|   [0.025  0.975]\n",
      "-------------------------------------------------------------------\n",
      "ID                 -0.0000   0.0001  -0.4895 0.6245 -0.0002  0.0001\n",
      "Age                -0.3184   0.9230  -0.3450 0.7301 -2.1274  1.4906\n",
      "Experience          0.5014   0.9186   0.5458 0.5852 -1.2992  2.3019\n",
      "Income              3.0103   0.1800  16.7282 0.0000  2.6576  3.3629\n",
      "ZIP Code           -0.0001   0.0000 -16.2313 0.0000 -0.0001 -0.0001\n",
      "CCAvg               0.3492   0.1000   3.4924 0.0005  0.1532  0.5451\n",
      "Mortgage            0.0010   0.0008   1.3663 0.1718 -0.0004  0.0025\n",
      "Securities Account -0.5882   0.3561  -1.6518 0.0986 -1.2861  0.1097\n",
      "CD Account          3.3872   0.4131   8.2004 0.0000  2.5777  4.1968\n",
      "Online             -1.0149   0.2097  -4.8393 0.0000 -1.4260 -0.6039\n",
      "CreditCard         -0.7936   0.2528  -3.1386 0.0017 -1.2891 -0.2980\n",
      "Family_1            0.2206   0.2881   0.7657 0.4439 -0.3440  0.7851\n",
      "Family_3            1.9784   0.3228   6.1293 0.0000  1.3457  2.6110\n",
      "Family_4            1.8462   0.3067   6.0200 0.0000  1.2451  2.4473\n",
      "Education_2         4.2588   0.3593  11.8528 0.0000  3.5546  4.9631\n",
      "Education_3         4.4689   0.3510  12.7328 0.0000  3.7810  5.1568\n",
      "===================================================================\n",
      "\n"
     ]
    }
   ],
   "source": [
    "#ITERATION 2\n",
    "logit_model=sm.Logit(y_train,X_train1)\n",
    "result2=logit_model.fit()\n",
    "print(result2.summary2())"
   ]
  },
  {
   "cell_type": "code",
   "execution_count": 60,
   "metadata": {},
   "outputs": [],
   "source": [
    "# Check for the VIF values of the feature variables. \n",
    "from statsmodels.stats.outliers_influence import variance_inflation_factor"
   ]
  },
  {
   "cell_type": "code",
   "execution_count": 61,
   "metadata": {},
   "outputs": [
    {
     "data": {
      "text/html": [
       "<div>\n",
       "<style scoped>\n",
       "    .dataframe tbody tr th:only-of-type {\n",
       "        vertical-align: middle;\n",
       "    }\n",
       "\n",
       "    .dataframe tbody tr th {\n",
       "        vertical-align: top;\n",
       "    }\n",
       "\n",
       "    .dataframe thead th {\n",
       "        text-align: right;\n",
       "    }\n",
       "</style>\n",
       "<table border=\"1\" class=\"dataframe\">\n",
       "  <thead>\n",
       "    <tr style=\"text-align: right;\">\n",
       "      <th></th>\n",
       "      <th>Features</th>\n",
       "      <th>VIF</th>\n",
       "    </tr>\n",
       "  </thead>\n",
       "  <tbody>\n",
       "    <tr>\n",
       "      <td>1</td>\n",
       "      <td>Age</td>\n",
       "      <td>90.94</td>\n",
       "    </tr>\n",
       "    <tr>\n",
       "      <td>2</td>\n",
       "      <td>Experience</td>\n",
       "      <td>90.82</td>\n",
       "    </tr>\n",
       "    <tr>\n",
       "      <td>4</td>\n",
       "      <td>ZIP Code</td>\n",
       "      <td>10.92</td>\n",
       "    </tr>\n",
       "    <tr>\n",
       "      <td>0</td>\n",
       "      <td>ID</td>\n",
       "      <td>4.04</td>\n",
       "    </tr>\n",
       "    <tr>\n",
       "      <td>9</td>\n",
       "      <td>Online</td>\n",
       "      <td>2.61</td>\n",
       "    </tr>\n",
       "    <tr>\n",
       "      <td>11</td>\n",
       "      <td>Family_1</td>\n",
       "      <td>2.12</td>\n",
       "    </tr>\n",
       "    <tr>\n",
       "      <td>13</td>\n",
       "      <td>Family_4</td>\n",
       "      <td>2.05</td>\n",
       "    </tr>\n",
       "    <tr>\n",
       "      <td>15</td>\n",
       "      <td>Education_3</td>\n",
       "      <td>1.91</td>\n",
       "    </tr>\n",
       "    <tr>\n",
       "      <td>3</td>\n",
       "      <td>Income</td>\n",
       "      <td>1.88</td>\n",
       "    </tr>\n",
       "    <tr>\n",
       "      <td>12</td>\n",
       "      <td>Family_3</td>\n",
       "      <td>1.88</td>\n",
       "    </tr>\n",
       "    <tr>\n",
       "      <td>14</td>\n",
       "      <td>Education_2</td>\n",
       "      <td>1.80</td>\n",
       "    </tr>\n",
       "    <tr>\n",
       "      <td>5</td>\n",
       "      <td>CCAvg</td>\n",
       "      <td>1.75</td>\n",
       "    </tr>\n",
       "    <tr>\n",
       "      <td>10</td>\n",
       "      <td>CreditCard</td>\n",
       "      <td>1.58</td>\n",
       "    </tr>\n",
       "    <tr>\n",
       "      <td>8</td>\n",
       "      <td>CD Account</td>\n",
       "      <td>1.40</td>\n",
       "    </tr>\n",
       "    <tr>\n",
       "      <td>6</td>\n",
       "      <td>Mortgage</td>\n",
       "      <td>1.36</td>\n",
       "    </tr>\n",
       "    <tr>\n",
       "      <td>7</td>\n",
       "      <td>Securities Account</td>\n",
       "      <td>1.27</td>\n",
       "    </tr>\n",
       "  </tbody>\n",
       "</table>\n",
       "</div>"
      ],
      "text/plain": [
       "              Features    VIF\n",
       "1                  Age  90.94\n",
       "2           Experience  90.82\n",
       "4             ZIP Code  10.92\n",
       "0                   ID   4.04\n",
       "9               Online   2.61\n",
       "11            Family_1   2.12\n",
       "13            Family_4   2.05\n",
       "15         Education_3   1.91\n",
       "3               Income   1.88\n",
       "12            Family_3   1.88\n",
       "14         Education_2   1.80\n",
       "5                CCAvg   1.75\n",
       "10          CreditCard   1.58\n",
       "8           CD Account   1.40\n",
       "6             Mortgage   1.36\n",
       "7   Securities Account   1.27"
      ]
     },
     "execution_count": 61,
     "metadata": {},
     "output_type": "execute_result"
    }
   ],
   "source": [
    "# Create a dataframe that will contain the names of all the feature variables and their respective VIFs\n",
    "col = X_train1.columns\n",
    "vif = pd.DataFrame()\n",
    "vif['Features'] = X_train1[col].columns\n",
    "vif['VIF'] = [variance_inflation_factor(X_train1[col].values, i) for i in range(X_train1[col].shape[1])]\n",
    "vif['VIF'] = round(vif['VIF'], 2)\n",
    "vif = vif.sort_values(by = \"VIF\", ascending = False)\n",
    "vif"
   ]
  },
  {
   "cell_type": "code",
   "execution_count": 62,
   "metadata": {},
   "outputs": [],
   "source": [
    "#dropping Age as it high VIF value and its very strongly correlated to experience in correlation matrix\n",
    "X_train1 = X_train.drop(['Family_2','Education_1','Age'],axis=1)"
   ]
  },
  {
   "cell_type": "code",
   "execution_count": 63,
   "metadata": {},
   "outputs": [
    {
     "name": "stdout",
     "output_type": "stream",
     "text": [
      "Optimization terminated successfully.\n",
      "         Current function value: 0.107957\n",
      "         Iterations 10\n",
      "                          Results: Logit\n",
      "===================================================================\n",
      "Model:               Logit            Pseudo R-squared: 0.649      \n",
      "Dependent Variable:  Personal Loan    AIC:              785.7011   \n",
      "Date:                2020-01-26 04:08 BIC:              878.1089   \n",
      "No. Observations:    3500             Log-Likelihood:   -377.85    \n",
      "Df Model:            14               LL-Null:          -1075.0    \n",
      "Df Residuals:        3485             LLR p-value:      2.7623e-289\n",
      "Converged:           1.0000           Scale:            1.0000     \n",
      "No. Iterations:      10.0000                                       \n",
      "-------------------------------------------------------------------\n",
      "                    Coef.  Std.Err.    z     P>|z|   [0.025  0.975]\n",
      "-------------------------------------------------------------------\n",
      "ID                 -0.0000   0.0001  -0.4904 0.6238 -0.0002  0.0001\n",
      "Experience          0.1863   0.0968   1.9251 0.0542 -0.0034  0.3759\n",
      "Income              3.0134   0.1797  16.7695 0.0000  2.6612  3.3656\n",
      "ZIP Code           -0.0001   0.0000 -16.2238 0.0000 -0.0001 -0.0001\n",
      "CCAvg               0.3499   0.1000   3.5009 0.0005  0.1540  0.5459\n",
      "Mortgage            0.0010   0.0007   1.3547 0.1755 -0.0005  0.0025\n",
      "Securities Account -0.5846   0.3557  -1.6435 0.1003 -1.2817  0.1125\n",
      "CD Account          3.3888   0.4128   8.2097 0.0000  2.5797  4.1978\n",
      "Online             -1.0122   0.2095  -4.8314 0.0000 -1.4228 -0.6016\n",
      "CreditCard         -0.7911   0.2527  -3.1307 0.0017 -1.2864 -0.2958\n",
      "Family_1            0.2210   0.2882   0.7669 0.4432 -0.3438  0.7858\n",
      "Family_3            1.9796   0.3227   6.1342 0.0000  1.3471  2.6122\n",
      "Family_4            1.8474   0.3067   6.0238 0.0000  1.2463  2.4486\n",
      "Education_2         4.2529   0.3589  11.8511 0.0000  3.5495  4.9562\n",
      "Education_3         4.4538   0.3481  12.7938 0.0000  3.7715  5.1361\n",
      "===================================================================\n",
      "\n"
     ]
    }
   ],
   "source": [
    "#ITERATION 3\n",
    "logit_model=sm.Logit(y_train,X_train1)\n",
    "result3=logit_model.fit()\n",
    "print(result3.summary2())"
   ]
  },
  {
   "cell_type": "code",
   "execution_count": 64,
   "metadata": {},
   "outputs": [
    {
     "data": {
      "text/html": [
       "<div>\n",
       "<style scoped>\n",
       "    .dataframe tbody tr th:only-of-type {\n",
       "        vertical-align: middle;\n",
       "    }\n",
       "\n",
       "    .dataframe tbody tr th {\n",
       "        vertical-align: top;\n",
       "    }\n",
       "\n",
       "    .dataframe thead th {\n",
       "        text-align: right;\n",
       "    }\n",
       "</style>\n",
       "<table border=\"1\" class=\"dataframe\">\n",
       "  <thead>\n",
       "    <tr style=\"text-align: right;\">\n",
       "      <th></th>\n",
       "      <th>Features</th>\n",
       "      <th>VIF</th>\n",
       "    </tr>\n",
       "  </thead>\n",
       "  <tbody>\n",
       "    <tr>\n",
       "      <td>3</td>\n",
       "      <td>ZIP Code</td>\n",
       "      <td>10.82</td>\n",
       "    </tr>\n",
       "    <tr>\n",
       "      <td>0</td>\n",
       "      <td>ID</td>\n",
       "      <td>4.04</td>\n",
       "    </tr>\n",
       "    <tr>\n",
       "      <td>8</td>\n",
       "      <td>Online</td>\n",
       "      <td>2.61</td>\n",
       "    </tr>\n",
       "    <tr>\n",
       "      <td>10</td>\n",
       "      <td>Family_1</td>\n",
       "      <td>2.12</td>\n",
       "    </tr>\n",
       "    <tr>\n",
       "      <td>12</td>\n",
       "      <td>Family_4</td>\n",
       "      <td>2.05</td>\n",
       "    </tr>\n",
       "    <tr>\n",
       "      <td>2</td>\n",
       "      <td>Income</td>\n",
       "      <td>1.87</td>\n",
       "    </tr>\n",
       "    <tr>\n",
       "      <td>11</td>\n",
       "      <td>Family_3</td>\n",
       "      <td>1.87</td>\n",
       "    </tr>\n",
       "    <tr>\n",
       "      <td>14</td>\n",
       "      <td>Education_3</td>\n",
       "      <td>1.78</td>\n",
       "    </tr>\n",
       "    <tr>\n",
       "      <td>13</td>\n",
       "      <td>Education_2</td>\n",
       "      <td>1.77</td>\n",
       "    </tr>\n",
       "    <tr>\n",
       "      <td>4</td>\n",
       "      <td>CCAvg</td>\n",
       "      <td>1.75</td>\n",
       "    </tr>\n",
       "    <tr>\n",
       "      <td>9</td>\n",
       "      <td>CreditCard</td>\n",
       "      <td>1.58</td>\n",
       "    </tr>\n",
       "    <tr>\n",
       "      <td>7</td>\n",
       "      <td>CD Account</td>\n",
       "      <td>1.40</td>\n",
       "    </tr>\n",
       "    <tr>\n",
       "      <td>5</td>\n",
       "      <td>Mortgage</td>\n",
       "      <td>1.36</td>\n",
       "    </tr>\n",
       "    <tr>\n",
       "      <td>6</td>\n",
       "      <td>Securities Account</td>\n",
       "      <td>1.27</td>\n",
       "    </tr>\n",
       "    <tr>\n",
       "      <td>1</td>\n",
       "      <td>Experience</td>\n",
       "      <td>1.01</td>\n",
       "    </tr>\n",
       "  </tbody>\n",
       "</table>\n",
       "</div>"
      ],
      "text/plain": [
       "              Features    VIF\n",
       "3             ZIP Code  10.82\n",
       "0                   ID   4.04\n",
       "8               Online   2.61\n",
       "10            Family_1   2.12\n",
       "12            Family_4   2.05\n",
       "2               Income   1.87\n",
       "11            Family_3   1.87\n",
       "14         Education_3   1.78\n",
       "13         Education_2   1.77\n",
       "4                CCAvg   1.75\n",
       "9           CreditCard   1.58\n",
       "7           CD Account   1.40\n",
       "5             Mortgage   1.36\n",
       "6   Securities Account   1.27\n",
       "1           Experience   1.01"
      ]
     },
     "execution_count": 64,
     "metadata": {},
     "output_type": "execute_result"
    }
   ],
   "source": [
    "# Create a dataframe that will contain the names of all the feature variables and their respective VIFs\n",
    "col = X_train1.columns\n",
    "vif = pd.DataFrame()\n",
    "vif['Features'] = X_train1[col].columns\n",
    "vif['VIF'] = [variance_inflation_factor(X_train1[col].values, i) for i in range(X_train1[col].shape[1])]\n",
    "vif['VIF'] = round(vif['VIF'], 2)\n",
    "vif = vif.sort_values(by = \"VIF\", ascending = False)\n",
    "vif"
   ]
  },
  {
   "cell_type": "code",
   "execution_count": 65,
   "metadata": {},
   "outputs": [],
   "source": [
    "#dropping Mortgage as it high p value\n",
    "X_train1 = X_train.drop(['Family_2','Education_1','Age','Mortgage'],axis=1)"
   ]
  },
  {
   "cell_type": "code",
   "execution_count": 66,
   "metadata": {},
   "outputs": [
    {
     "name": "stdout",
     "output_type": "stream",
     "text": [
      "Optimization terminated successfully.\n",
      "         Current function value: 0.108217\n",
      "         Iterations 9\n",
      "                          Results: Logit\n",
      "===================================================================\n",
      "Model:               Logit            Pseudo R-squared: 0.648      \n",
      "Dependent Variable:  Personal Loan    AIC:              785.5201   \n",
      "Date:                2020-01-26 04:08 BIC:              871.7673   \n",
      "No. Observations:    3500             Log-Likelihood:   -378.76    \n",
      "Df Model:            13               LL-Null:          -1075.0    \n",
      "Df Residuals:        3486             LLR p-value:      6.4457e-290\n",
      "Converged:           1.0000           Scale:            1.0000     \n",
      "No. Iterations:      9.0000                                        \n",
      "-------------------------------------------------------------------\n",
      "                    Coef.  Std.Err.    z     P>|z|   [0.025  0.975]\n",
      "-------------------------------------------------------------------\n",
      "ID                 -0.0000   0.0001  -0.5217 0.6019 -0.0002  0.0001\n",
      "Experience          0.1820   0.0966   1.8839 0.0596 -0.0073  0.3714\n",
      "Income              3.0269   0.1794  16.8689 0.0000  2.6752  3.3785\n",
      "ZIP Code           -0.0001   0.0000 -16.2846 0.0000 -0.0001 -0.0001\n",
      "CCAvg               0.3382   0.0996   3.3944 0.0007  0.1429  0.5335\n",
      "Securities Account -0.5899   0.3548  -1.6623 0.0964 -1.2853  0.1056\n",
      "CD Account          3.4016   0.4129   8.2387 0.0000  2.5924  4.2109\n",
      "Online             -1.0054   0.2090  -4.8113 0.0000 -1.4150 -0.5959\n",
      "CreditCard         -0.7970   0.2520  -3.1633 0.0016 -1.2908 -0.3032\n",
      "Family_1            0.2158   0.2883   0.7488 0.4540 -0.3491  0.7808\n",
      "Family_3            1.9848   0.3227   6.1498 0.0000  1.3522  2.6173\n",
      "Family_4            1.8526   0.3069   6.0357 0.0000  1.2510  2.4542\n",
      "Education_2         4.2188   0.3570  11.8178 0.0000  3.5191  4.9185\n",
      "Education_3         4.4152   0.3457  12.7712 0.0000  3.7376  5.0928\n",
      "===================================================================\n",
      "\n"
     ]
    }
   ],
   "source": [
    "#ITERATION 4\n",
    "logit_model=sm.Logit(y_train,X_train1)\n",
    "result4=logit_model.fit()\n",
    "print(result4.summary2())"
   ]
  },
  {
   "cell_type": "code",
   "execution_count": 93,
   "metadata": {},
   "outputs": [
    {
     "data": {
      "text/html": [
       "<div>\n",
       "<style scoped>\n",
       "    .dataframe tbody tr th:only-of-type {\n",
       "        vertical-align: middle;\n",
       "    }\n",
       "\n",
       "    .dataframe tbody tr th {\n",
       "        vertical-align: top;\n",
       "    }\n",
       "\n",
       "    .dataframe thead th {\n",
       "        text-align: right;\n",
       "    }\n",
       "</style>\n",
       "<table border=\"1\" class=\"dataframe\">\n",
       "  <thead>\n",
       "    <tr style=\"text-align: right;\">\n",
       "      <th></th>\n",
       "      <th>Features</th>\n",
       "      <th>VIF</th>\n",
       "    </tr>\n",
       "  </thead>\n",
       "  <tbody>\n",
       "    <tr>\n",
       "      <td>3</td>\n",
       "      <td>ZIP Code</td>\n",
       "      <td>10.41</td>\n",
       "    </tr>\n",
       "    <tr>\n",
       "      <td>0</td>\n",
       "      <td>ID</td>\n",
       "      <td>4.03</td>\n",
       "    </tr>\n",
       "    <tr>\n",
       "      <td>7</td>\n",
       "      <td>Online</td>\n",
       "      <td>2.61</td>\n",
       "    </tr>\n",
       "    <tr>\n",
       "      <td>9</td>\n",
       "      <td>Family_1</td>\n",
       "      <td>2.12</td>\n",
       "    </tr>\n",
       "    <tr>\n",
       "      <td>11</td>\n",
       "      <td>Family_4</td>\n",
       "      <td>2.05</td>\n",
       "    </tr>\n",
       "    <tr>\n",
       "      <td>10</td>\n",
       "      <td>Family_3</td>\n",
       "      <td>1.87</td>\n",
       "    </tr>\n",
       "    <tr>\n",
       "      <td>2</td>\n",
       "      <td>Income</td>\n",
       "      <td>1.83</td>\n",
       "    </tr>\n",
       "    <tr>\n",
       "      <td>13</td>\n",
       "      <td>Education_3</td>\n",
       "      <td>1.78</td>\n",
       "    </tr>\n",
       "    <tr>\n",
       "      <td>12</td>\n",
       "      <td>Education_2</td>\n",
       "      <td>1.77</td>\n",
       "    </tr>\n",
       "    <tr>\n",
       "      <td>4</td>\n",
       "      <td>CCAvg</td>\n",
       "      <td>1.75</td>\n",
       "    </tr>\n",
       "    <tr>\n",
       "      <td>8</td>\n",
       "      <td>CreditCard</td>\n",
       "      <td>1.58</td>\n",
       "    </tr>\n",
       "    <tr>\n",
       "      <td>6</td>\n",
       "      <td>CD Account</td>\n",
       "      <td>1.40</td>\n",
       "    </tr>\n",
       "    <tr>\n",
       "      <td>5</td>\n",
       "      <td>Securities Account</td>\n",
       "      <td>1.27</td>\n",
       "    </tr>\n",
       "    <tr>\n",
       "      <td>1</td>\n",
       "      <td>Experience</td>\n",
       "      <td>1.01</td>\n",
       "    </tr>\n",
       "  </tbody>\n",
       "</table>\n",
       "</div>"
      ],
      "text/plain": [
       "              Features    VIF\n",
       "3             ZIP Code  10.41\n",
       "0                   ID   4.03\n",
       "7               Online   2.61\n",
       "9             Family_1   2.12\n",
       "11            Family_4   2.05\n",
       "10            Family_3   1.87\n",
       "2               Income   1.83\n",
       "13         Education_3   1.78\n",
       "12         Education_2   1.77\n",
       "4                CCAvg   1.75\n",
       "8           CreditCard   1.58\n",
       "6           CD Account   1.40\n",
       "5   Securities Account   1.27\n",
       "1           Experience   1.01"
      ]
     },
     "execution_count": 93,
     "metadata": {},
     "output_type": "execute_result"
    }
   ],
   "source": [
    "# Create a dataframe that will contain the names of all the feature variables and their respective VIFs\n",
    "col = X_train1.columns\n",
    "vif = pd.DataFrame()\n",
    "vif['Features'] = X_train1[col].columns\n",
    "vif['VIF'] = [variance_inflation_factor(X_train1[col].values, i) for i in range(X_train1[col].shape[1])]\n",
    "vif['VIF'] = round(vif['VIF'], 2)\n",
    "vif = vif.sort_values(by = \"VIF\", ascending = False)\n",
    "vif"
   ]
  },
  {
   "cell_type": "code",
   "execution_count": 94,
   "metadata": {},
   "outputs": [
    {
     "name": "stdout",
     "output_type": "stream",
     "text": [
      "Optimization terminated successfully.\n",
      "         Current function value: 0.199012\n",
      "         Iterations 8\n",
      "                          Results: Logit\n",
      "===================================================================\n",
      "Model:               Logit            Pseudo R-squared: 0.352      \n",
      "Dependent Variable:  Personal Loan    AIC:              1419.0821  \n",
      "Date:                2020-01-26 12:34 BIC:              1499.1688  \n",
      "No. Observations:    3500             Log-Likelihood:   -696.54    \n",
      "Df Model:            12               LL-Null:          -1075.0    \n",
      "Df Residuals:        3487             LLR p-value:      2.8646e-154\n",
      "Converged:           1.0000           Scale:            1.0000     \n",
      "No. Iterations:      8.0000                                        \n",
      "-------------------------------------------------------------------\n",
      "                    Coef.  Std.Err.    z     P>|z|   [0.025  0.975]\n",
      "-------------------------------------------------------------------\n",
      "ID                 -0.0007   0.0000 -14.5819 0.0000 -0.0008 -0.0006\n",
      "Experience          0.1461   0.0696   2.0984 0.0359  0.0096  0.2825\n",
      "Income              1.6015   0.0942  16.9968 0.0000  1.4168  1.7862\n",
      "CCAvg               0.0347   0.0711   0.4874 0.6260 -0.1047  0.1741\n",
      "Securities Account -1.5930   0.2900  -5.4923 0.0000 -2.1615 -1.0245\n",
      "CD Account          4.3737   0.3288  13.3035 0.0000  3.7294  5.0181\n",
      "Online             -1.9736   0.1524 -12.9508 0.0000 -2.2723 -1.6749\n",
      "CreditCard         -1.8250   0.2019  -9.0390 0.0000 -2.2207 -1.4293\n",
      "Family_1           -1.8395   0.1838 -10.0072 0.0000 -2.1998 -1.4792\n",
      "Family_3           -0.5902   0.1901  -3.1051 0.0019 -0.9627 -0.2176\n",
      "Family_4           -0.6535   0.1850  -3.5313 0.0004 -1.0161 -0.2908\n",
      "Education_2         0.9481   0.1813   5.2298 0.0000  0.5928  1.3034\n",
      "Education_3         1.1173   0.1673   6.6770 0.0000  0.7893  1.4452\n",
      "===================================================================\n",
      "\n"
     ]
    },
    {
     "data": {
      "text/html": [
       "<div>\n",
       "<style scoped>\n",
       "    .dataframe tbody tr th:only-of-type {\n",
       "        vertical-align: middle;\n",
       "    }\n",
       "\n",
       "    .dataframe tbody tr th {\n",
       "        vertical-align: top;\n",
       "    }\n",
       "\n",
       "    .dataframe thead th {\n",
       "        text-align: right;\n",
       "    }\n",
       "</style>\n",
       "<table border=\"1\" class=\"dataframe\">\n",
       "  <thead>\n",
       "    <tr style=\"text-align: right;\">\n",
       "      <th></th>\n",
       "      <th>Features</th>\n",
       "      <th>VIF</th>\n",
       "    </tr>\n",
       "  </thead>\n",
       "  <tbody>\n",
       "    <tr>\n",
       "      <td>0</td>\n",
       "      <td>ID</td>\n",
       "      <td>2.86</td>\n",
       "    </tr>\n",
       "    <tr>\n",
       "      <td>6</td>\n",
       "      <td>Online</td>\n",
       "      <td>2.22</td>\n",
       "    </tr>\n",
       "    <tr>\n",
       "      <td>2</td>\n",
       "      <td>Income</td>\n",
       "      <td>1.82</td>\n",
       "    </tr>\n",
       "    <tr>\n",
       "      <td>3</td>\n",
       "      <td>CCAvg</td>\n",
       "      <td>1.74</td>\n",
       "    </tr>\n",
       "    <tr>\n",
       "      <td>10</td>\n",
       "      <td>Family_4</td>\n",
       "      <td>1.70</td>\n",
       "    </tr>\n",
       "    <tr>\n",
       "      <td>8</td>\n",
       "      <td>Family_1</td>\n",
       "      <td>1.69</td>\n",
       "    </tr>\n",
       "    <tr>\n",
       "      <td>11</td>\n",
       "      <td>Education_2</td>\n",
       "      <td>1.64</td>\n",
       "    </tr>\n",
       "    <tr>\n",
       "      <td>12</td>\n",
       "      <td>Education_3</td>\n",
       "      <td>1.60</td>\n",
       "    </tr>\n",
       "    <tr>\n",
       "      <td>9</td>\n",
       "      <td>Family_3</td>\n",
       "      <td>1.58</td>\n",
       "    </tr>\n",
       "    <tr>\n",
       "      <td>7</td>\n",
       "      <td>CreditCard</td>\n",
       "      <td>1.48</td>\n",
       "    </tr>\n",
       "    <tr>\n",
       "      <td>5</td>\n",
       "      <td>CD Account</td>\n",
       "      <td>1.37</td>\n",
       "    </tr>\n",
       "    <tr>\n",
       "      <td>4</td>\n",
       "      <td>Securities Account</td>\n",
       "      <td>1.25</td>\n",
       "    </tr>\n",
       "    <tr>\n",
       "      <td>1</td>\n",
       "      <td>Experience</td>\n",
       "      <td>1.01</td>\n",
       "    </tr>\n",
       "  </tbody>\n",
       "</table>\n",
       "</div>"
      ],
      "text/plain": [
       "              Features   VIF\n",
       "0                   ID  2.86\n",
       "6               Online  2.22\n",
       "2               Income  1.82\n",
       "3                CCAvg  1.74\n",
       "10            Family_4  1.70\n",
       "8             Family_1  1.69\n",
       "11         Education_2  1.64\n",
       "12         Education_3  1.60\n",
       "9             Family_3  1.58\n",
       "7           CreditCard  1.48\n",
       "5           CD Account  1.37\n",
       "4   Securities Account  1.25\n",
       "1           Experience  1.01"
      ]
     },
     "execution_count": 94,
     "metadata": {},
     "output_type": "execute_result"
    }
   ],
   "source": [
    "#dropping ZIP code as it has high VIF\n",
    "X_train1 = X_train.drop(['Family_2','Education_1','Age','Mortgage','ZIP Code'],axis=1)\n",
    "#                         'CCAvg',], axis=1)\n",
    "\n",
    "#ITERATION 5\n",
    "logit_model=sm.Logit(y_train,X_train1)\n",
    "result5=logit_model.fit()\n",
    "print(result5.summary2())\n",
    "\n",
    "# Create a dataframe that will contain the names of all the feature variables and their respective VIFs\n",
    "col = X_train1.columns\n",
    "vif = pd.DataFrame()\n",
    "vif['Features'] = X_train1[col].columns\n",
    "vif['VIF'] = [variance_inflation_factor(X_train1[col].values, i) for i in range(X_train1[col].shape[1])]\n",
    "vif['VIF'] = round(vif['VIF'], 2)\n",
    "vif = vif.sort_values(by = \"VIF\", ascending = False)\n",
    "vif"
   ]
  },
  {
   "cell_type": "code",
   "execution_count": 95,
   "metadata": {},
   "outputs": [
    {
     "name": "stdout",
     "output_type": "stream",
     "text": [
      "Optimization terminated successfully.\n",
      "         Current function value: 0.199046\n",
      "         Iterations 8\n",
      "                          Results: Logit\n",
      "===================================================================\n",
      "Model:               Logit            Pseudo R-squared: 0.352      \n",
      "Dependent Variable:  Personal Loan    AIC:              1417.3195  \n",
      "Date:                2020-01-26 12:34 BIC:              1491.2458  \n",
      "No. Observations:    3500             Log-Likelihood:   -696.66    \n",
      "Df Model:            11               LL-Null:          -1075.0    \n",
      "Df Residuals:        3488             LLR p-value:      3.7911e-155\n",
      "Converged:           1.0000           Scale:            1.0000     \n",
      "No. Iterations:      8.0000                                        \n",
      "-------------------------------------------------------------------\n",
      "                    Coef.  Std.Err.    z     P>|z|   [0.025  0.975]\n",
      "-------------------------------------------------------------------\n",
      "ID                 -0.0007   0.0000 -14.5795 0.0000 -0.0008 -0.0006\n",
      "Experience          0.1444   0.0695   2.0779 0.0377  0.0082  0.2807\n",
      "Income              1.6250   0.0813  19.9910 0.0000  1.4656  1.7843\n",
      "Securities Account -1.5930   0.2898  -5.4960 0.0000 -2.1610 -1.0249\n",
      "CD Account          4.3783   0.3286  13.3232 0.0000  3.7342  5.0223\n",
      "Online             -1.9724   0.1522 -12.9559 0.0000 -2.2707 -1.6740\n",
      "CreditCard         -1.8251   0.2019  -9.0380 0.0000 -2.2209 -1.4293\n",
      "Family_1           -1.8405   0.1838 -10.0119 0.0000 -2.2008 -1.4802\n",
      "Family_3           -0.5954   0.1898  -3.1372 0.0017 -0.9674 -0.2234\n",
      "Family_4           -0.6563   0.1850  -3.5481 0.0004 -1.0188 -0.2938\n",
      "Education_2         0.9470   0.1813   5.2236 0.0000  0.5917  1.3023\n",
      "Education_3         1.1170   0.1673   6.6779 0.0000  0.7892  1.4449\n",
      "===================================================================\n",
      "\n"
     ]
    },
    {
     "data": {
      "text/html": [
       "<div>\n",
       "<style scoped>\n",
       "    .dataframe tbody tr th:only-of-type {\n",
       "        vertical-align: middle;\n",
       "    }\n",
       "\n",
       "    .dataframe tbody tr th {\n",
       "        vertical-align: top;\n",
       "    }\n",
       "\n",
       "    .dataframe thead th {\n",
       "        text-align: right;\n",
       "    }\n",
       "</style>\n",
       "<table border=\"1\" class=\"dataframe\">\n",
       "  <thead>\n",
       "    <tr style=\"text-align: right;\">\n",
       "      <th></th>\n",
       "      <th>Features</th>\n",
       "      <th>VIF</th>\n",
       "    </tr>\n",
       "  </thead>\n",
       "  <tbody>\n",
       "    <tr>\n",
       "      <td>0</td>\n",
       "      <td>ID</td>\n",
       "      <td>2.86</td>\n",
       "    </tr>\n",
       "    <tr>\n",
       "      <td>5</td>\n",
       "      <td>Online</td>\n",
       "      <td>2.22</td>\n",
       "    </tr>\n",
       "    <tr>\n",
       "      <td>9</td>\n",
       "      <td>Family_4</td>\n",
       "      <td>1.70</td>\n",
       "    </tr>\n",
       "    <tr>\n",
       "      <td>7</td>\n",
       "      <td>Family_1</td>\n",
       "      <td>1.69</td>\n",
       "    </tr>\n",
       "    <tr>\n",
       "      <td>10</td>\n",
       "      <td>Education_2</td>\n",
       "      <td>1.64</td>\n",
       "    </tr>\n",
       "    <tr>\n",
       "      <td>11</td>\n",
       "      <td>Education_3</td>\n",
       "      <td>1.60</td>\n",
       "    </tr>\n",
       "    <tr>\n",
       "      <td>8</td>\n",
       "      <td>Family_3</td>\n",
       "      <td>1.58</td>\n",
       "    </tr>\n",
       "    <tr>\n",
       "      <td>6</td>\n",
       "      <td>CreditCard</td>\n",
       "      <td>1.48</td>\n",
       "    </tr>\n",
       "    <tr>\n",
       "      <td>4</td>\n",
       "      <td>CD Account</td>\n",
       "      <td>1.37</td>\n",
       "    </tr>\n",
       "    <tr>\n",
       "      <td>3</td>\n",
       "      <td>Securities Account</td>\n",
       "      <td>1.25</td>\n",
       "    </tr>\n",
       "    <tr>\n",
       "      <td>2</td>\n",
       "      <td>Income</td>\n",
       "      <td>1.09</td>\n",
       "    </tr>\n",
       "    <tr>\n",
       "      <td>1</td>\n",
       "      <td>Experience</td>\n",
       "      <td>1.01</td>\n",
       "    </tr>\n",
       "  </tbody>\n",
       "</table>\n",
       "</div>"
      ],
      "text/plain": [
       "              Features   VIF\n",
       "0                   ID  2.86\n",
       "5               Online  2.22\n",
       "9             Family_4  1.70\n",
       "7             Family_1  1.69\n",
       "10         Education_2  1.64\n",
       "11         Education_3  1.60\n",
       "8             Family_3  1.58\n",
       "6           CreditCard  1.48\n",
       "4           CD Account  1.37\n",
       "3   Securities Account  1.25\n",
       "2               Income  1.09\n",
       "1           Experience  1.01"
      ]
     },
     "execution_count": 95,
     "metadata": {},
     "output_type": "execute_result"
    }
   ],
   "source": [
    "#dropping CCAvg as it has high value of p\n",
    "X_train1 = X_train.drop(['Family_2','Education_1','Age','Mortgage','ZIP Code','CCAvg'],axis=1)\n",
    "\n",
    "#ITERATION 6\n",
    "logit_model=sm.Logit(y_train,X_train1)\n",
    "result6=logit_model.fit()\n",
    "print(result6.summary2())\n",
    "\n",
    "# Create a dataframe that will contain the names of all the feature variables and their respective VIFs\n",
    "col = X_train1.columns\n",
    "vif = pd.DataFrame()\n",
    "vif['Features'] = X_train1[col].columns\n",
    "vif['VIF'] = [variance_inflation_factor(X_train1[col].values, i) for i in range(X_train1[col].shape[1])]\n",
    "vif['VIF'] = round(vif['VIF'], 2)\n",
    "vif = vif.sort_values(by = \"VIF\", ascending = False)\n",
    "vif"
   ]
  },
  {
   "cell_type": "code",
   "execution_count": 96,
   "metadata": {},
   "outputs": [
    {
     "name": "stdout",
     "output_type": "stream",
     "text": [
      "Optimization terminated successfully.\n",
      "         Current function value: 0.202976\n",
      "         Iterations 8\n",
      "                          Results: Logit\n",
      "===================================================================\n",
      "Model:               Logit            Pseudo R-squared: 0.339      \n",
      "Dependent Variable:  Personal Loan    AIC:              1442.8344  \n",
      "Date:                2020-01-26 12:35 BIC:              1510.6001  \n",
      "No. Observations:    3500             Log-Likelihood:   -710.42    \n",
      "Df Model:            10               LL-Null:          -1075.0    \n",
      "Df Residuals:        3489             LLR p-value:      3.4554e-150\n",
      "Converged:           1.0000           Scale:            1.0000     \n",
      "No. Iterations:      8.0000                                        \n",
      "-------------------------------------------------------------------\n",
      "                    Coef.  Std.Err.    z     P>|z|   [0.025  0.975]\n",
      "-------------------------------------------------------------------\n",
      "ID                 -0.0006   0.0000 -14.0331 0.0000 -0.0007 -0.0005\n",
      "Experience          0.1390   0.0690   2.0145 0.0440  0.0038  0.2742\n",
      "Income              1.5580   0.0783  19.8984 0.0000  1.4045  1.7114\n",
      "Securities Account -1.5153   0.2815  -5.3824 0.0000 -2.0670 -0.9635\n",
      "CD Account          4.3272   0.3206  13.4952 0.0000  3.6987  4.9556\n",
      "Online             -1.8492   0.1476 -12.5292 0.0000 -2.1385 -1.5600\n",
      "CreditCard         -1.7820   0.2003  -8.8951 0.0000 -2.1746 -1.3893\n",
      "Family_1           -1.6492   0.1761  -9.3635 0.0000 -1.9944 -1.3040\n",
      "Family_3           -0.2839   0.1776  -1.5990 0.1098 -0.6319  0.0641\n",
      "Family_4           -0.3250   0.1716  -1.8936 0.0583 -0.6613  0.0114\n",
      "Education_3         0.7679   0.1488   5.1613 0.0000  0.4763  1.0596\n",
      "===================================================================\n",
      "\n"
     ]
    },
    {
     "data": {
      "text/html": [
       "<div>\n",
       "<style scoped>\n",
       "    .dataframe tbody tr th:only-of-type {\n",
       "        vertical-align: middle;\n",
       "    }\n",
       "\n",
       "    .dataframe tbody tr th {\n",
       "        vertical-align: top;\n",
       "    }\n",
       "\n",
       "    .dataframe thead th {\n",
       "        text-align: right;\n",
       "    }\n",
       "</style>\n",
       "<table border=\"1\" class=\"dataframe\">\n",
       "  <thead>\n",
       "    <tr style=\"text-align: right;\">\n",
       "      <th></th>\n",
       "      <th>Features</th>\n",
       "      <th>VIF</th>\n",
       "    </tr>\n",
       "  </thead>\n",
       "  <tbody>\n",
       "    <tr>\n",
       "      <td>0</td>\n",
       "      <td>ID</td>\n",
       "      <td>2.78</td>\n",
       "    </tr>\n",
       "    <tr>\n",
       "      <td>5</td>\n",
       "      <td>Online</td>\n",
       "      <td>2.19</td>\n",
       "    </tr>\n",
       "    <tr>\n",
       "      <td>7</td>\n",
       "      <td>Family_1</td>\n",
       "      <td>1.64</td>\n",
       "    </tr>\n",
       "    <tr>\n",
       "      <td>9</td>\n",
       "      <td>Family_4</td>\n",
       "      <td>1.60</td>\n",
       "    </tr>\n",
       "    <tr>\n",
       "      <td>6</td>\n",
       "      <td>CreditCard</td>\n",
       "      <td>1.48</td>\n",
       "    </tr>\n",
       "    <tr>\n",
       "      <td>8</td>\n",
       "      <td>Family_3</td>\n",
       "      <td>1.48</td>\n",
       "    </tr>\n",
       "    <tr>\n",
       "      <td>10</td>\n",
       "      <td>Education_3</td>\n",
       "      <td>1.38</td>\n",
       "    </tr>\n",
       "    <tr>\n",
       "      <td>4</td>\n",
       "      <td>CD Account</td>\n",
       "      <td>1.37</td>\n",
       "    </tr>\n",
       "    <tr>\n",
       "      <td>3</td>\n",
       "      <td>Securities Account</td>\n",
       "      <td>1.24</td>\n",
       "    </tr>\n",
       "    <tr>\n",
       "      <td>2</td>\n",
       "      <td>Income</td>\n",
       "      <td>1.08</td>\n",
       "    </tr>\n",
       "    <tr>\n",
       "      <td>1</td>\n",
       "      <td>Experience</td>\n",
       "      <td>1.01</td>\n",
       "    </tr>\n",
       "  </tbody>\n",
       "</table>\n",
       "</div>"
      ],
      "text/plain": [
       "              Features   VIF\n",
       "0                   ID  2.78\n",
       "5               Online  2.19\n",
       "7             Family_1  1.64\n",
       "9             Family_4  1.60\n",
       "6           CreditCard  1.48\n",
       "8             Family_3  1.48\n",
       "10         Education_3  1.38\n",
       "4           CD Account  1.37\n",
       "3   Securities Account  1.24\n",
       "2               Income  1.08\n",
       "1           Experience  1.01"
      ]
     },
     "execution_count": 96,
     "metadata": {},
     "output_type": "execute_result"
    }
   ],
   "source": [
    "#dropping Education_2  as it has high value of p\n",
    "X_train1 = X_train.drop(['Family_2','Education_1','Age','Mortgage','ZIP Code','CCAvg','Education_2',\n",
    "                        ],\n",
    "                        axis=1)\n",
    "\n",
    "#ITERATION 7\n",
    "logit_model=sm.Logit(y_train,X_train1)\n",
    "result7=logit_model.fit()\n",
    "print(result7.summary2())\n",
    "\n",
    "# Create a dataframe that will contain the names of all the feature variables and their respective VIFs\n",
    "col = X_train1.columns\n",
    "vif = pd.DataFrame()\n",
    "vif['Features'] = X_train1[col].columns\n",
    "vif['VIF'] = [variance_inflation_factor(X_train1[col].values, i) for i in range(X_train1[col].shape[1])]\n",
    "vif['VIF'] = round(vif['VIF'], 2)\n",
    "vif = vif.sort_values(by = \"VIF\", ascending = False)\n",
    "vif"
   ]
  },
  {
   "cell_type": "code",
   "execution_count": 97,
   "metadata": {},
   "outputs": [
    {
     "name": "stdout",
     "output_type": "stream",
     "text": [
      "Optimization terminated successfully.\n",
      "         Current function value: 0.206747\n",
      "         Iterations 8\n",
      "                          Results: Logit\n",
      "===================================================================\n",
      "Model:               Logit            Pseudo R-squared: 0.327      \n",
      "Dependent Variable:  Personal Loan    AIC:              1467.2314  \n",
      "Date:                2020-01-26 12:35 BIC:              1528.8366  \n",
      "No. Observations:    3500             Log-Likelihood:   -723.62    \n",
      "Df Model:            9                LL-Null:          -1075.0    \n",
      "Df Residuals:        3490             LLR p-value:      1.7689e-145\n",
      "Converged:           1.0000           Scale:            1.0000     \n",
      "No. Iterations:      8.0000                                        \n",
      "-------------------------------------------------------------------\n",
      "                    Coef.  Std.Err.    z     P>|z|   [0.025  0.975]\n",
      "-------------------------------------------------------------------\n",
      "ID                 -0.0006   0.0000 -13.4739 0.0000 -0.0007 -0.0005\n",
      "Experience          0.1347   0.0684   1.9685 0.0490  0.0006  0.2689\n",
      "Income              1.4952   0.0754  19.8424 0.0000  1.3475  1.6429\n",
      "Securities Account -1.4418   0.2780  -5.1862 0.0000 -1.9867 -0.8969\n",
      "CD Account          4.2212   0.3137  13.4555 0.0000  3.6064  4.8361\n",
      "Online             -1.7623   0.1442 -12.2253 0.0000 -2.0449 -1.4798\n",
      "CreditCard         -1.7116   0.1974  -8.6718 0.0000 -2.0984 -1.3247\n",
      "Family_1           -1.5010   0.1721  -8.7224 0.0000 -1.8382 -1.1637\n",
      "Family_3           -0.1575   0.1733  -0.9086 0.3636 -0.4972  0.1822\n",
      "Family_4           -0.1336   0.1654  -0.8080 0.4191 -0.4578  0.1905\n",
      "===================================================================\n",
      "\n"
     ]
    },
    {
     "data": {
      "text/html": [
       "<div>\n",
       "<style scoped>\n",
       "    .dataframe tbody tr th:only-of-type {\n",
       "        vertical-align: middle;\n",
       "    }\n",
       "\n",
       "    .dataframe tbody tr th {\n",
       "        vertical-align: top;\n",
       "    }\n",
       "\n",
       "    .dataframe thead th {\n",
       "        text-align: right;\n",
       "    }\n",
       "</style>\n",
       "<table border=\"1\" class=\"dataframe\">\n",
       "  <thead>\n",
       "    <tr style=\"text-align: right;\">\n",
       "      <th></th>\n",
       "      <th>Features</th>\n",
       "      <th>VIF</th>\n",
       "    </tr>\n",
       "  </thead>\n",
       "  <tbody>\n",
       "    <tr>\n",
       "      <td>0</td>\n",
       "      <td>ID</td>\n",
       "      <td>2.71</td>\n",
       "    </tr>\n",
       "    <tr>\n",
       "      <td>5</td>\n",
       "      <td>Online</td>\n",
       "      <td>2.18</td>\n",
       "    </tr>\n",
       "    <tr>\n",
       "      <td>7</td>\n",
       "      <td>Family_1</td>\n",
       "      <td>1.61</td>\n",
       "    </tr>\n",
       "    <tr>\n",
       "      <td>9</td>\n",
       "      <td>Family_4</td>\n",
       "      <td>1.58</td>\n",
       "    </tr>\n",
       "    <tr>\n",
       "      <td>6</td>\n",
       "      <td>CreditCard</td>\n",
       "      <td>1.48</td>\n",
       "    </tr>\n",
       "    <tr>\n",
       "      <td>8</td>\n",
       "      <td>Family_3</td>\n",
       "      <td>1.47</td>\n",
       "    </tr>\n",
       "    <tr>\n",
       "      <td>4</td>\n",
       "      <td>CD Account</td>\n",
       "      <td>1.37</td>\n",
       "    </tr>\n",
       "    <tr>\n",
       "      <td>3</td>\n",
       "      <td>Securities Account</td>\n",
       "      <td>1.24</td>\n",
       "    </tr>\n",
       "    <tr>\n",
       "      <td>2</td>\n",
       "      <td>Income</td>\n",
       "      <td>1.07</td>\n",
       "    </tr>\n",
       "    <tr>\n",
       "      <td>1</td>\n",
       "      <td>Experience</td>\n",
       "      <td>1.01</td>\n",
       "    </tr>\n",
       "  </tbody>\n",
       "</table>\n",
       "</div>"
      ],
      "text/plain": [
       "             Features   VIF\n",
       "0                  ID  2.71\n",
       "5              Online  2.18\n",
       "7            Family_1  1.61\n",
       "9            Family_4  1.58\n",
       "6          CreditCard  1.48\n",
       "8            Family_3  1.47\n",
       "4          CD Account  1.37\n",
       "3  Securities Account  1.24\n",
       "2              Income  1.07\n",
       "1          Experience  1.01"
      ]
     },
     "execution_count": 97,
     "metadata": {},
     "output_type": "execute_result"
    }
   ],
   "source": [
    "#dropping Education_3  as it has high value of p\n",
    "X_train1 = X_train.drop(['Family_2','Education_1','Age','Mortgage','ZIP Code','CCAvg','Education_2',\n",
    "                        'Education_3'],axis=1)\n",
    "\n",
    "#ITERATION 8\n",
    "logit_model=sm.Logit(y_train,X_train1)\n",
    "result8=logit_model.fit()\n",
    "print(result8.summary2())\n",
    "\n",
    "# Create a dataframe that will contain the names of all the feature variables and their respective VIFs\n",
    "col = X_train1.columns\n",
    "vif = pd.DataFrame()\n",
    "vif['Features'] = X_train1[col].columns\n",
    "vif['VIF'] = [variance_inflation_factor(X_train1[col].values, i) for i in range(X_train1[col].shape[1])]\n",
    "vif['VIF'] = round(vif['VIF'], 2)\n",
    "vif = vif.sort_values(by = \"VIF\", ascending = False)\n",
    "vif"
   ]
  },
  {
   "cell_type": "code",
   "execution_count": 98,
   "metadata": {},
   "outputs": [
    {
     "name": "stdout",
     "output_type": "stream",
     "text": [
      "Optimization terminated successfully.\n",
      "         Current function value: 0.207304\n",
      "         Iterations 8\n",
      "                          Results: Logit\n",
      "===================================================================\n",
      "Model:               Logit            Pseudo R-squared: 0.325      \n",
      "Dependent Variable:  Personal Loan    AIC:              1469.1253  \n",
      "Date:                2020-01-26 12:36 BIC:              1524.5699  \n",
      "No. Observations:    3500             Log-Likelihood:   -725.56    \n",
      "Df Model:            8                LL-Null:          -1075.0    \n",
      "Df Residuals:        3491             LLR p-value:      1.2590e-145\n",
      "Converged:           1.0000           Scale:            1.0000     \n",
      "No. Iterations:      8.0000                                        \n",
      "-------------------------------------------------------------------\n",
      "                    Coef.  Std.Err.    z     P>|z|   [0.025  0.975]\n",
      "-------------------------------------------------------------------\n",
      "ID                 -0.0006   0.0000 -13.4566 0.0000 -0.0007 -0.0005\n",
      "Income              1.4846   0.0749  19.8209 0.0000  1.3378  1.6314\n",
      "Securities Account -1.4438   0.2767  -5.2182 0.0000 -1.9861 -0.9015\n",
      "CD Account          4.2252   0.3126  13.5154 0.0000  3.6124  4.8379\n",
      "Online             -1.7582   0.1440 -12.2099 0.0000 -2.0404 -1.4760\n",
      "CreditCard         -1.7087   0.1969  -8.6775 0.0000 -2.0947 -1.3228\n",
      "Family_1           -1.4900   0.1717  -8.6772 0.0000 -1.8265 -1.1534\n",
      "Family_3           -0.1598   0.1732  -0.9224 0.3563 -0.4992  0.1797\n",
      "Family_4           -0.1539   0.1645  -0.9355 0.3495 -0.4764  0.1685\n",
      "===================================================================\n",
      "\n"
     ]
    },
    {
     "data": {
      "text/html": [
       "<div>\n",
       "<style scoped>\n",
       "    .dataframe tbody tr th:only-of-type {\n",
       "        vertical-align: middle;\n",
       "    }\n",
       "\n",
       "    .dataframe tbody tr th {\n",
       "        vertical-align: top;\n",
       "    }\n",
       "\n",
       "    .dataframe thead th {\n",
       "        text-align: right;\n",
       "    }\n",
       "</style>\n",
       "<table border=\"1\" class=\"dataframe\">\n",
       "  <thead>\n",
       "    <tr style=\"text-align: right;\">\n",
       "      <th></th>\n",
       "      <th>Features</th>\n",
       "      <th>VIF</th>\n",
       "    </tr>\n",
       "  </thead>\n",
       "  <tbody>\n",
       "    <tr>\n",
       "      <td>0</td>\n",
       "      <td>ID</td>\n",
       "      <td>2.71</td>\n",
       "    </tr>\n",
       "    <tr>\n",
       "      <td>4</td>\n",
       "      <td>Online</td>\n",
       "      <td>2.18</td>\n",
       "    </tr>\n",
       "    <tr>\n",
       "      <td>6</td>\n",
       "      <td>Family_1</td>\n",
       "      <td>1.61</td>\n",
       "    </tr>\n",
       "    <tr>\n",
       "      <td>8</td>\n",
       "      <td>Family_4</td>\n",
       "      <td>1.57</td>\n",
       "    </tr>\n",
       "    <tr>\n",
       "      <td>5</td>\n",
       "      <td>CreditCard</td>\n",
       "      <td>1.48</td>\n",
       "    </tr>\n",
       "    <tr>\n",
       "      <td>7</td>\n",
       "      <td>Family_3</td>\n",
       "      <td>1.47</td>\n",
       "    </tr>\n",
       "    <tr>\n",
       "      <td>3</td>\n",
       "      <td>CD Account</td>\n",
       "      <td>1.37</td>\n",
       "    </tr>\n",
       "    <tr>\n",
       "      <td>2</td>\n",
       "      <td>Securities Account</td>\n",
       "      <td>1.24</td>\n",
       "    </tr>\n",
       "    <tr>\n",
       "      <td>1</td>\n",
       "      <td>Income</td>\n",
       "      <td>1.07</td>\n",
       "    </tr>\n",
       "  </tbody>\n",
       "</table>\n",
       "</div>"
      ],
      "text/plain": [
       "             Features   VIF\n",
       "0                  ID  2.71\n",
       "4              Online  2.18\n",
       "6            Family_1  1.61\n",
       "8            Family_4  1.57\n",
       "5          CreditCard  1.48\n",
       "7            Family_3  1.47\n",
       "3          CD Account  1.37\n",
       "2  Securities Account  1.24\n",
       "1              Income  1.07"
      ]
     },
     "execution_count": 98,
     "metadata": {},
     "output_type": "execute_result"
    }
   ],
   "source": [
    "#dropping Experience as it has high value of p\n",
    "X_train1 = X_train.drop(['Family_2','Education_1','Age','Mortgage','ZIP Code','CCAvg','Education_2',\n",
    "                        'Education_3','Experience'],\n",
    "                        axis=1)\n",
    "\n",
    "#ITERATION 9\n",
    "logit_model=sm.Logit(y_train,X_train1)\n",
    "result9=logit_model.fit()\n",
    "print(result9.summary2())\n",
    "\n",
    "# Create a dataframe that will contain the names of all the feature variables and their respective VIFs\n",
    "col = X_train1.columns\n",
    "vif = pd.DataFrame()\n",
    "vif['Features'] = X_train1[col].columns\n",
    "vif['VIF'] = [variance_inflation_factor(X_train1[col].values, i) for i in range(X_train1[col].shape[1])]\n",
    "vif['VIF'] = round(vif['VIF'], 2)\n",
    "vif = vif.sort_values(by = \"VIF\", ascending = False)\n",
    "vif"
   ]
  },
  {
   "cell_type": "markdown",
   "metadata": {},
   "source": [
    "* Now all the features are significant and VIF is also fine. Selecting these variables to predict the result"
   ]
  },
  {
   "cell_type": "markdown",
   "metadata": {},
   "source": [
    "# Logistic Regression Model Fitting"
   ]
  },
  {
   "cell_type": "code",
   "execution_count": 99,
   "metadata": {},
   "outputs": [
    {
     "data": {
      "text/plain": [
       "LogisticRegression(C=1.0, class_weight=None, dual=False, fit_intercept=True,\n",
       "                   intercept_scaling=1, l1_ratio=None, max_iter=100,\n",
       "                   multi_class='warn', n_jobs=None, penalty='l2',\n",
       "                   random_state=None, solver='warn', tol=0.0001, verbose=0,\n",
       "                   warm_start=False)"
      ]
     },
     "execution_count": 99,
     "metadata": {},
     "output_type": "execute_result"
    }
   ],
   "source": [
    "from sklearn.linear_model import LogisticRegression\n",
    "from sklearn import metrics\n",
    "\n",
    "logreg = LogisticRegression()\n",
    "logreg.fit(X_train1, y_train)"
   ]
  },
  {
   "cell_type": "code",
   "execution_count": 101,
   "metadata": {},
   "outputs": [
    {
     "data": {
      "text/plain": [
       "Index(['ID', 'Income', 'Securities Account', 'CD Account', 'Online',\n",
       "       'CreditCard', 'Family_1', 'Family_3', 'Family_4'],\n",
       "      dtype='object')"
      ]
     },
     "execution_count": 101,
     "metadata": {},
     "output_type": "execute_result"
    }
   ],
   "source": [
    "#Fitting the model on test data\n",
    "X_test1 = X_test.drop(['Family_2','Education_1','Age','Mortgage','ZIP Code','CCAvg','Education_2',\n",
    "                        'Education_3','Experience'],\n",
    "                        axis=1)\n",
    "X_test1.columns"
   ]
  },
  {
   "cell_type": "code",
   "execution_count": 102,
   "metadata": {},
   "outputs": [
    {
     "name": "stdout",
     "output_type": "stream",
     "text": [
      "Accuracy of logistic regression classifier on test set: 0.93\n"
     ]
    }
   ],
   "source": [
    "y_pred = logreg.predict(X_test1)\n",
    "print('Accuracy of logistic regression classifier on test set: {:.2f}'.format(logreg.score(X_test1, y_test)))"
   ]
  },
  {
   "cell_type": "markdown",
   "metadata": {},
   "source": [
    "# KNN for classification"
   ]
  },
  {
   "cell_type": "code",
   "execution_count": 111,
   "metadata": {},
   "outputs": [],
   "source": [
    "from sklearn.neighbors import KNeighborsClassifier"
   ]
  },
  {
   "cell_type": "code",
   "execution_count": 112,
   "metadata": {},
   "outputs": [],
   "source": [
    "#Using X_train dataframe as it was final data after cleaning, apply scaling and splitting"
   ]
  },
  {
   "cell_type": "code",
   "execution_count": 113,
   "metadata": {},
   "outputs": [
    {
     "data": {
      "text/plain": [
       "KNeighborsClassifier(algorithm='auto', leaf_size=30, metric='minkowski',\n",
       "                     metric_params=None, n_jobs=None, n_neighbors=5, p=2,\n",
       "                     weights='uniform')"
      ]
     },
     "execution_count": 113,
     "metadata": {},
     "output_type": "execute_result"
    }
   ],
   "source": [
    "# Call Nearest Neighbour algorithm, keeping number of neighbours as 5\n",
    "NNH = KNeighborsClassifier(n_neighbors= 5 , weights = 'uniform' )\n",
    "NNH.fit(X_train, y_train)"
   ]
  },
  {
   "cell_type": "code",
   "execution_count": 114,
   "metadata": {},
   "outputs": [],
   "source": [
    "# For every test data point, predict it's label based on 5 nearest neighbours in this model. The majority class will \n",
    "# be assigned to the test data point\n",
    "predicted_labels_KNN = NNH.predict(X_test)"
   ]
  },
  {
   "cell_type": "code",
   "execution_count": 131,
   "metadata": {},
   "outputs": [
    {
     "data": {
      "text/plain": [
       "0.8873333333333333"
      ]
     },
     "execution_count": 131,
     "metadata": {},
     "output_type": "execute_result"
    }
   ],
   "source": [
    "NNH.score(X_test, y_test)"
   ]
  },
  {
   "cell_type": "markdown",
   "metadata": {},
   "source": [
    "# Applying Gaussian Naive Bayes"
   ]
  },
  {
   "cell_type": "code",
   "execution_count": 135,
   "metadata": {},
   "outputs": [],
   "source": [
    "from sklearn.naive_bayes import GaussianNB"
   ]
  },
  {
   "cell_type": "code",
   "execution_count": 136,
   "metadata": {},
   "outputs": [
    {
     "name": "stdout",
     "output_type": "stream",
     "text": [
      "[[1253   89]\n",
      " [  57  101]]\n"
     ]
    }
   ],
   "source": [
    "#Iteration 1 - Fitting all variables, cleaned and normalized data\n",
    "GNB1 = GaussianNB()\n",
    "GNB1.fit(X_train, y_train)\n",
    "predicted_labels_GNB = GNB1.predict(X_test)\n",
    "\n",
    "GNB1.score(X_test, y_test)\n",
    "print(metrics.confusion_matrix(y_test, predicted_labels_GNB))"
   ]
  },
  {
   "cell_type": "code",
   "execution_count": 138,
   "metadata": {},
   "outputs": [],
   "source": [
    "#CALCULATING METRICES FOR CHECKING MODEL\n",
    "#true positives (TP): These are cases in which we predicted yes, and actually took loan.\n",
    "TP=101\n",
    "#true negatives (TN): We predicted no, and they actually did not took loan.\n",
    "TN=1253\n",
    "#false positives (FP): We predicted yes, but they don't actually took loan.(Also known as a \"Type I error.\")\n",
    "FP=89\n",
    "#false negatives (FN): We predicted no, but they actually took loan.(Also known as a \"Type II error.\")\n",
    "FN=57"
   ]
  },
  {
   "cell_type": "markdown",
   "metadata": {},
   "source": [
    "# 6. Print the confusion matrix for all the above models (5 marks)"
   ]
  },
  {
   "cell_type": "code",
   "execution_count": 104,
   "metadata": {},
   "outputs": [
    {
     "name": "stdout",
     "output_type": "stream",
     "text": [
      "[[1316   26]\n",
      " [  83   75]]\n"
     ]
    }
   ],
   "source": [
    "from sklearn.metrics import confusion_matrix\n",
    "confusion_matrix = confusion_matrix(y_test, y_pred)\n",
    "print(confusion_matrix)"
   ]
  },
  {
   "cell_type": "code",
   "execution_count": 107,
   "metadata": {},
   "outputs": [],
   "source": [
    "#true positives (TP): These are cases in which we predicted yes, and actually took loan.\n",
    "TP=75\n",
    "#true negatives (TN): We predicted no, and they actually did not took loan.\n",
    "TN=1316\n",
    "#false positives (FP): We predicted yes, but they don't actually took loan.(Also known as a \"Type I error.\")\n",
    "FP=26\n",
    "#false negatives (FN): We predicted no, but they actually took loan.(Also known as a \"Type II error.\")\n",
    "FN=83"
   ]
  },
  {
   "cell_type": "code",
   "execution_count": 125,
   "metadata": {},
   "outputs": [],
   "source": [
    "# Confusion Matrix for Logistic Regression Model:"
   ]
  },
  {
   "cell_type": "code",
   "execution_count": 130,
   "metadata": {},
   "outputs": [
    {
     "name": "stdout",
     "output_type": "stream",
     "text": [
      "Confusion Matrix for Logistic Regression Model:\n"
     ]
    },
    {
     "data": {
      "text/plain": [
       "<matplotlib.axes._subplots.AxesSubplot at 0x1c26e140d0>"
      ]
     },
     "execution_count": 130,
     "metadata": {},
     "output_type": "execute_result"
    },
    {
     "data": {
      "image/png": "[encoded data removed]",
      "text/plain": [
       "<Figure size 576x360 with 2 Axes>"
      ]
     },
     "metadata": {
      "needs_background": "light"
     },
     "output_type": "display_data"
    }
   ],
   "source": [
    "print(\"Confusion Matrix for Logistic Regression Model:\")\n",
    "cm=metrics.confusion_matrix(y_test, y_pred, labels=[1,0])\n",
    "\n",
    "df_cm=pd.DataFrame(cm, index = [i for i in [\"Actual 1\",\"Actual 0\"]], columns = [i for i in [\"Predict 1\",\"Predict 0\"]])\n",
    "\n",
    "plt.figure(figsize=(8,5))\n",
    "sns.heatmap(df_cm, annot=True, linewidths=0.2)"
   ]
  },
  {
   "cell_type": "code",
   "execution_count": 124,
   "metadata": {},
   "outputs": [],
   "source": [
    "# Confusion Matrix for KNN Model:"
   ]
  },
  {
   "cell_type": "code",
   "execution_count": 132,
   "metadata": {},
   "outputs": [
    {
     "name": "stdout",
     "output_type": "stream",
     "text": [
      "[[1331   11]\n",
      " [ 158    0]]\n"
     ]
    }
   ],
   "source": [
    "print(metrics.confusion_matrix(y_test, predicted_labels_KNN))"
   ]
  },
  {
   "cell_type": "code",
   "execution_count": 133,
   "metadata": {},
   "outputs": [],
   "source": [
    "#CALCULATING METRICES FOR CHECKING MODEL\n",
    "#true positives (TP): These are cases in which we predicted yes, and actually took loan.\n",
    "TP=0\n",
    "#true negatives (TN): We predicted no, and they actually did not took loan.\n",
    "TN=1331\n",
    "#false positives (FP): We predicted yes, but they don't actually took loan.(Also known as a \"Type I error.\")\n",
    "FP=11\n",
    "#false negatives (FN): We predicted no, but they actually took loan.(Also known as a \"Type II error.\")\n",
    "FN=158"
   ]
  },
  {
   "cell_type": "code",
   "execution_count": 134,
   "metadata": {},
   "outputs": [
    {
     "name": "stdout",
     "output_type": "stream",
     "text": [
      "Confusion Matrix for KNN Model:\n"
     ]
    },
    {
     "data": {
      "text/plain": [
       "<matplotlib.axes._subplots.AxesSubplot at 0x1c26e1ba10>"
      ]
     },
     "execution_count": 134,
     "metadata": {},
     "output_type": "execute_result"
    },
    {
     "data": {
      "image/png": "[encoded data removed]",
      "text/plain": [
       "<Figure size 576x360 with 2 Axes>"
      ]
     },
     "metadata": {
      "needs_background": "light"
     },
     "output_type": "display_data"
    }
   ],
   "source": [
    "print(\"Confusion Matrix for KNN Model:\")\n",
    "cm=metrics.confusion_matrix(y_test, predicted_labels_KNN, labels=[1,0])\n",
    "\n",
    "df_cm=pd.DataFrame(cm, index = [i for i in [\"Actual 1\",\"Actual 0\"]], columns = [i for i in [\"Predict 1\",\"Predict 0\"]])\n",
    "\n",
    "plt.figure(figsize=(8,5))\n",
    "sns.heatmap(df_cm, annot=True, linewidths=0.2)"
   ]
  },
  {
   "cell_type": "code",
   "execution_count": 143,
   "metadata": {},
   "outputs": [],
   "source": [
    "# Confusion Matrix for Gaussian Naive Bayes Model:"
   ]
  },
  {
   "cell_type": "code",
   "execution_count": 148,
   "metadata": {},
   "outputs": [
    {
     "name": "stdout",
     "output_type": "stream",
     "text": [
      "Confusion Matrix for Gaussian Naive Bayes Model:\n"
     ]
    },
    {
     "data": {
      "text/plain": [
       "<matplotlib.axes._subplots.AxesSubplot at 0x1c2e689290>"
      ]
     },
     "execution_count": 148,
     "metadata": {},
     "output_type": "execute_result"
    },
    {
     "data": {
      "image/png": "[encoded data removed]",
      "text/plain": [
       "<Figure size 648x432 with 2 Axes>"
      ]
     },
     "metadata": {
      "needs_background": "light"
     },
     "output_type": "display_data"
    }
   ],
   "source": [
    "print(\"Confusion Matrix for Gaussian Naive Bayes Model:\")\n",
    "cm=metrics.confusion_matrix(y_test, predicted_labels_GNB, labels=[1,0])\n",
    "\n",
    "df_cm=pd.DataFrame(cm, index = [i for i in [\"Actual 1\",\"Actual 0\"]], columns = [i for i in [\"Predict 1\",\"Predict 0\"]])\n",
    "\n",
    "plt.figure(figsize=(9,6))\n",
    "sns.heatmap(df_cm, annot=True, linewidths=0.2)"
   ]
  },
  {
   "cell_type": "markdown",
   "metadata": {},
   "source": [
    "# 7. Give your reasoning on which is the best model in this case and why it performs better? (5 marks)"
   ]
  },
  {
   "cell_type": "code",
   "execution_count": 149,
   "metadata": {},
   "outputs": [],
   "source": [
    "#Chossing the best of all 3 models and below are there results:\n",
    "\n",
    "#Model\t  Results\t\t\t\t\t\t\t\t\t                                      Matrix\n",
    "#Logistic Accuracy of logistic regression classifier on test set:            92.93%\t\t [[1316   26]\n",
    "#\t      Misclassification Rate:It is often wrong:                           7.07%\t\t  [  83   75]]\n",
    "#\t      Sensitivity: When its actually yes how often it predicts yes:      48.73%\n",
    "#\t      Specificity: When its actually no, how often does it predict no:   98.14%\n",
    "#\t      Precision: When it predicts yes, how often is it correct:          75.49%\n",
    "#\t\n",
    "\n",
    "#KNN\t  Accuracy of logistic regression classifier on test set:            94.80%\t\t [[1331   11]\n",
    "#\t      Misclassification Rate: It is often wrong:                          5.20%\t\t  [  158   0]]\n",
    "#\t      Sensitivity: When its actually yes how often it predicts yes:      58.23%\n",
    "#\t      Specificity: When its actually no, how often does it predict no:   99.11%\n",
    "#\t      Precision: When it predicts yes, how often is it correct:          88.46%\n",
    "#\t\n",
    "#GNB\t  Accuracy of logistic regression classifier on test set:            90.33%\t\t [[1253   89]\n",
    "#\t      Misclassification Rate: It is often wrong:                          9.67%\t\t  [  57  101]]\n",
    "#\t      Sensitivity: When its actually yes how often it predicts yes:      64.56%\n",
    "#\t      Specificity: When its actually no, how often does it predict no:   93.37%\n",
    "#\t      Precision: When it predicts yes, how often is it correct:          53.40%\n",
    "#"
   ]
  },
  {
   "cell_type": "code",
   "execution_count": 150,
   "metadata": {},
   "outputs": [],
   "source": [
    "#KNN model performs the best, evident from above results. However, Sensitivity is greater in GNB.\n",
    "#The yes prediction is on lower side as data is not balanced. Data was not altered as figure represented the \n",
    "#true picture of market i.e. person who took loan are on lower side.\n",
    "#If we apply the model and change our approach and target only those predicted as yes first, it is 88% (Precision)\n",
    "#chance they will take loan. Hence our chances that a person takes personal loan increases.\n",
    "#Though our Sensitivity is around 58% still we end up offering more loans at end of program"
   ]
  },
  {
   "cell_type": "code",
   "execution_count": 151,
   "metadata": {},
   "outputs": [],
   "source": [
    "#To conclude, I have applied what I have learned till now. Further to this we can apply technique like random forest,\n",
    "#decesion trees etc and use regularization and then compare the results to see if model improves further."
   ]
  }
 ],
 "metadata": {
  "kernelspec": {
   "display_name": "Python 3",
   "language": "python",
   "name": "python3"
  },
  "language_info": {
   "codemirror_mode": {
    "name": "ipython",
    "version": 3
   },
   "file_extension": ".py",
   "mimetype": "text/x-python",
   "name": "python",
   "nbconvert_exporter": "python",
   "pygments_lexer": "ipython3",
   "version": "3.7.4"
  }
 },
 "nbformat": 4,
 "nbformat_minor": 2
}
